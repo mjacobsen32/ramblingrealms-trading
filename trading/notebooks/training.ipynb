{
 "cells": [
  {
   "cell_type": "code",
   "execution_count": 20,
   "id": "1dcc6fe8",
   "metadata": {},
   "outputs": [],
   "source": [
    "import os\n",
    "import pandas as pd\n",
    "import numpy as np\n",
    "from alpaca.data.historical import StockHistoricalDataClient\n",
    "from alpaca.data.requests import StockBarsRequest\n",
    "from alpaca.data.timeframe import TimeFrame\n",
    "from datetime import datetime, timedelta\n",
    "from sklearn.model_selection import train_test_split\n",
    "from sklearn.preprocessing import StandardScaler\n",
    "from sklearn.metrics import accuracy_score, classification_report\n",
    "from transformers import AutoModelForSequenceClassification, AutoTokenizer, TrainingArguments, Trainer\n",
    "import torch\n",
    "import json\n",
    "import torch.nn as nn\n",
    "import matplotlib.pyplot as plt\n",
    "from rich import print as rprint\n",
    "\n",
    "from trading.src.user_cache.user_cache import UserCache as user_cache\n",
    "user = user_cache.load()"
   ]
  },
  {
   "cell_type": "code",
   "execution_count": null,
   "id": "74718d60",
   "metadata": {},
   "outputs": [],
   "source": [
    "\n",
    "# ---- PARAMETERS ----\n",
    "ALPACA_API_KEY = user.alpaca_api_key.get_secret_value()\n",
    "ALPACA_SECRET_KEY = user.alpaca_api_secret.get_secret_value()\n",
    "TICKERS = [\"AAPL\"]  # or use [\"AAPL\", \"MSFT\", ...] for all tickers\n",
    "START_DATE = \"2000-01-01\"\n",
    "END_DATE = \"2023-01-01\"\n",
    "CACHE_FILE = \"alpaca_cache.parquet\"\n",
    "EPOCHS = 100\n",
    "BATCH_SIZE = 16\n",
    "OVERFITTING_PARAM = 0.05  # e.g., weight decay\n",
    "SAVE_PARAMS = False\n",
    "PARAMS_FILE = \"run_params.json\"\n",
    "LEARNING_RATE = 2e-5\n",
    "HOLD_THRESHOLD=0.01"
   ]
  },
  {
   "cell_type": "code",
   "execution_count": 22,
   "id": "6d2a9789",
   "metadata": {},
   "outputs": [
    {
     "data": {
      "text/html": [
       "<pre style=\"white-space:pre;overflow-x:auto;line-height:normal;font-family:Menlo,'DejaVu Sans Mono',consolas,'Courier New',monospace\">Loading data from cache<span style=\"color: #808000; text-decoration-color: #808000\">...</span>\n",
       "</pre>\n"
      ],
      "text/plain": [
       "Loading data from cache\u001b[33m...\u001b[0m\n"
      ]
     },
     "metadata": {},
     "output_type": "display_data"
    },
    {
     "data": {
      "text/html": [
       "<pre style=\"white-space:pre;overflow-x:auto;line-height:normal;font-family:Menlo,'DejaVu Sans Mono',consolas,'Courier New',monospace\">                                    open     high     low   close      volume  \\\n",
       "symbol timestamp                                                                \n",
       "AAPL   <span style=\"color: #008080; text-decoration-color: #008080; font-weight: bold\">2016</span>-<span style=\"color: #008080; text-decoration-color: #008080; font-weight: bold\">01</span>-<span style=\"color: #008080; text-decoration-color: #008080; font-weight: bold\">04</span> <span style=\"color: #00ff00; text-decoration-color: #00ff00; font-weight: bold\">05:00:00</span>+<span style=\"color: #00ff00; text-decoration-color: #00ff00; font-weight: bold\">00:00</span>  <span style=\"color: #008080; text-decoration-color: #008080; font-weight: bold\">102.61</span>  <span style=\"color: #008080; text-decoration-color: #008080; font-weight: bold\">105.368</span>  <span style=\"color: #008080; text-decoration-color: #008080; font-weight: bold\">102.00</span>  <span style=\"color: #008080; text-decoration-color: #008080; font-weight: bold\">105.35</span>  <span style=\"color: #008080; text-decoration-color: #008080; font-weight: bold\">71935339.0</span>   \n",
       "       <span style=\"color: #008080; text-decoration-color: #008080; font-weight: bold\">2016</span>-<span style=\"color: #008080; text-decoration-color: #008080; font-weight: bold\">01</span>-<span style=\"color: #008080; text-decoration-color: #008080; font-weight: bold\">05</span> <span style=\"color: #00ff00; text-decoration-color: #00ff00; font-weight: bold\">05:00:00</span>+<span style=\"color: #00ff00; text-decoration-color: #00ff00; font-weight: bold\">00:00</span>  <span style=\"color: #008080; text-decoration-color: #008080; font-weight: bold\">105.75</span>  <span style=\"color: #008080; text-decoration-color: #008080; font-weight: bold\">105.850</span>  <span style=\"color: #008080; text-decoration-color: #008080; font-weight: bold\">102.41</span>  <span style=\"color: #008080; text-decoration-color: #008080; font-weight: bold\">102.71</span>  <span style=\"color: #008080; text-decoration-color: #008080; font-weight: bold\">58690536.0</span>   \n",
       "       <span style=\"color: #008080; text-decoration-color: #008080; font-weight: bold\">2016</span>-<span style=\"color: #008080; text-decoration-color: #008080; font-weight: bold\">01</span>-<span style=\"color: #008080; text-decoration-color: #008080; font-weight: bold\">06</span> <span style=\"color: #00ff00; text-decoration-color: #00ff00; font-weight: bold\">05:00:00</span>+<span style=\"color: #00ff00; text-decoration-color: #00ff00; font-weight: bold\">00:00</span>  <span style=\"color: #008080; text-decoration-color: #008080; font-weight: bold\">100.56</span>  <span style=\"color: #008080; text-decoration-color: #008080; font-weight: bold\">102.370</span>   <span style=\"color: #008080; text-decoration-color: #008080; font-weight: bold\">99.87</span>  <span style=\"color: #008080; text-decoration-color: #008080; font-weight: bold\">100.70</span>  <span style=\"color: #008080; text-decoration-color: #008080; font-weight: bold\">71079827.0</span>   \n",
       "       <span style=\"color: #008080; text-decoration-color: #008080; font-weight: bold\">2016</span>-<span style=\"color: #008080; text-decoration-color: #008080; font-weight: bold\">01</span>-<span style=\"color: #008080; text-decoration-color: #008080; font-weight: bold\">07</span> <span style=\"color: #00ff00; text-decoration-color: #00ff00; font-weight: bold\">05:00:00</span>+<span style=\"color: #00ff00; text-decoration-color: #00ff00; font-weight: bold\">00:00</span>   <span style=\"color: #008080; text-decoration-color: #008080; font-weight: bold\">98.68</span>  <span style=\"color: #008080; text-decoration-color: #008080; font-weight: bold\">100.130</span>   <span style=\"color: #008080; text-decoration-color: #008080; font-weight: bold\">96.43</span>   <span style=\"color: #008080; text-decoration-color: #008080; font-weight: bold\">96.45</span>  <span style=\"color: #008080; text-decoration-color: #008080; font-weight: bold\">85996453.0</span>   \n",
       "       <span style=\"color: #008080; text-decoration-color: #008080; font-weight: bold\">2016</span>-<span style=\"color: #008080; text-decoration-color: #008080; font-weight: bold\">01</span>-<span style=\"color: #008080; text-decoration-color: #008080; font-weight: bold\">08</span> <span style=\"color: #00ff00; text-decoration-color: #00ff00; font-weight: bold\">05:00:00</span>+<span style=\"color: #00ff00; text-decoration-color: #00ff00; font-weight: bold\">00:00</span>   <span style=\"color: #008080; text-decoration-color: #008080; font-weight: bold\">98.55</span>   <span style=\"color: #008080; text-decoration-color: #008080; font-weight: bold\">99.110</span>   <span style=\"color: #008080; text-decoration-color: #008080; font-weight: bold\">96.76</span>   <span style=\"color: #008080; text-decoration-color: #008080; font-weight: bold\">96.96</span>  <span style=\"color: #008080; text-decoration-color: #008080; font-weight: bold\">75066292.0</span>   \n",
       "\n",
       "                                  trade_count        vwap ticker  \n",
       "symbol timestamp                                                  \n",
       "AAPL   <span style=\"color: #008080; text-decoration-color: #008080; font-weight: bold\">2016</span>-<span style=\"color: #008080; text-decoration-color: #008080; font-weight: bold\">01</span>-<span style=\"color: #008080; text-decoration-color: #008080; font-weight: bold\">04</span> <span style=\"color: #00ff00; text-decoration-color: #00ff00; font-weight: bold\">05:00:00</span>+<span style=\"color: #00ff00; text-decoration-color: #00ff00; font-weight: bold\">00:00</span>     <span style=\"color: #008080; text-decoration-color: #008080; font-weight: bold\">351452.0</span>  <span style=\"color: #008080; text-decoration-color: #008080; font-weight: bold\">104.007250</span>   AAPL  \n",
       "       <span style=\"color: #008080; text-decoration-color: #008080; font-weight: bold\">2016</span>-<span style=\"color: #008080; text-decoration-color: #008080; font-weight: bold\">01</span>-<span style=\"color: #008080; text-decoration-color: #008080; font-weight: bold\">05</span> <span style=\"color: #00ff00; text-decoration-color: #00ff00; font-weight: bold\">05:00:00</span>+<span style=\"color: #00ff00; text-decoration-color: #00ff00; font-weight: bold\">00:00</span>     <span style=\"color: #008080; text-decoration-color: #008080; font-weight: bold\">321365.0</span>  <span style=\"color: #008080; text-decoration-color: #008080; font-weight: bold\">103.414304</span>   AAPL  \n",
       "       <span style=\"color: #008080; text-decoration-color: #008080; font-weight: bold\">2016</span>-<span style=\"color: #008080; text-decoration-color: #008080; font-weight: bold\">01</span>-<span style=\"color: #008080; text-decoration-color: #008080; font-weight: bold\">06</span> <span style=\"color: #00ff00; text-decoration-color: #00ff00; font-weight: bold\">05:00:00</span>+<span style=\"color: #00ff00; text-decoration-color: #00ff00; font-weight: bold\">00:00</span>     <span style=\"color: #008080; text-decoration-color: #008080; font-weight: bold\">409164.0</span>  <span style=\"color: #008080; text-decoration-color: #008080; font-weight: bold\">100.847762</span>   AAPL  \n",
       "       <span style=\"color: #008080; text-decoration-color: #008080; font-weight: bold\">2016</span>-<span style=\"color: #008080; text-decoration-color: #008080; font-weight: bold\">01</span>-<span style=\"color: #008080; text-decoration-color: #008080; font-weight: bold\">07</span> <span style=\"color: #00ff00; text-decoration-color: #00ff00; font-weight: bold\">05:00:00</span>+<span style=\"color: #00ff00; text-decoration-color: #00ff00; font-weight: bold\">00:00</span>     <span style=\"color: #008080; text-decoration-color: #008080; font-weight: bold\">462836.0</span>   <span style=\"color: #008080; text-decoration-color: #008080; font-weight: bold\">98.046209</span>   AAPL  \n",
       "       <span style=\"color: #008080; text-decoration-color: #008080; font-weight: bold\">2016</span>-<span style=\"color: #008080; text-decoration-color: #008080; font-weight: bold\">01</span>-<span style=\"color: #008080; text-decoration-color: #008080; font-weight: bold\">08</span> <span style=\"color: #00ff00; text-decoration-color: #00ff00; font-weight: bold\">05:00:00</span>+<span style=\"color: #00ff00; text-decoration-color: #00ff00; font-weight: bold\">00:00</span>     <span style=\"color: #008080; text-decoration-color: #008080; font-weight: bold\">419555.0</span>   <span style=\"color: #008080; text-decoration-color: #008080; font-weight: bold\">97.916490</span>   AAPL  \n",
       "</pre>\n"
      ],
      "text/plain": [
       "                                    open     high     low   close      volume  \\\n",
       "symbol timestamp                                                                \n",
       "AAPL   \u001b[1;36m2016\u001b[0m-\u001b[1;36m01\u001b[0m-\u001b[1;36m04\u001b[0m \u001b[1;92m05:00:00\u001b[0m+\u001b[1;92m00:00\u001b[0m  \u001b[1;36m102.61\u001b[0m  \u001b[1;36m105.368\u001b[0m  \u001b[1;36m102.00\u001b[0m  \u001b[1;36m105.35\u001b[0m  \u001b[1;36m71935339.0\u001b[0m   \n",
       "       \u001b[1;36m2016\u001b[0m-\u001b[1;36m01\u001b[0m-\u001b[1;36m05\u001b[0m \u001b[1;92m05:00:00\u001b[0m+\u001b[1;92m00:00\u001b[0m  \u001b[1;36m105.75\u001b[0m  \u001b[1;36m105.850\u001b[0m  \u001b[1;36m102.41\u001b[0m  \u001b[1;36m102.71\u001b[0m  \u001b[1;36m58690536.0\u001b[0m   \n",
       "       \u001b[1;36m2016\u001b[0m-\u001b[1;36m01\u001b[0m-\u001b[1;36m06\u001b[0m \u001b[1;92m05:00:00\u001b[0m+\u001b[1;92m00:00\u001b[0m  \u001b[1;36m100.56\u001b[0m  \u001b[1;36m102.370\u001b[0m   \u001b[1;36m99.87\u001b[0m  \u001b[1;36m100.70\u001b[0m  \u001b[1;36m71079827.0\u001b[0m   \n",
       "       \u001b[1;36m2016\u001b[0m-\u001b[1;36m01\u001b[0m-\u001b[1;36m07\u001b[0m \u001b[1;92m05:00:00\u001b[0m+\u001b[1;92m00:00\u001b[0m   \u001b[1;36m98.68\u001b[0m  \u001b[1;36m100.130\u001b[0m   \u001b[1;36m96.43\u001b[0m   \u001b[1;36m96.45\u001b[0m  \u001b[1;36m85996453.0\u001b[0m   \n",
       "       \u001b[1;36m2016\u001b[0m-\u001b[1;36m01\u001b[0m-\u001b[1;36m08\u001b[0m \u001b[1;92m05:00:00\u001b[0m+\u001b[1;92m00:00\u001b[0m   \u001b[1;36m98.55\u001b[0m   \u001b[1;36m99.110\u001b[0m   \u001b[1;36m96.76\u001b[0m   \u001b[1;36m96.96\u001b[0m  \u001b[1;36m75066292.0\u001b[0m   \n",
       "\n",
       "                                  trade_count        vwap ticker  \n",
       "symbol timestamp                                                  \n",
       "AAPL   \u001b[1;36m2016\u001b[0m-\u001b[1;36m01\u001b[0m-\u001b[1;36m04\u001b[0m \u001b[1;92m05:00:00\u001b[0m+\u001b[1;92m00:00\u001b[0m     \u001b[1;36m351452.0\u001b[0m  \u001b[1;36m104.007250\u001b[0m   AAPL  \n",
       "       \u001b[1;36m2016\u001b[0m-\u001b[1;36m01\u001b[0m-\u001b[1;36m05\u001b[0m \u001b[1;92m05:00:00\u001b[0m+\u001b[1;92m00:00\u001b[0m     \u001b[1;36m321365.0\u001b[0m  \u001b[1;36m103.414304\u001b[0m   AAPL  \n",
       "       \u001b[1;36m2016\u001b[0m-\u001b[1;36m01\u001b[0m-\u001b[1;36m06\u001b[0m \u001b[1;92m05:00:00\u001b[0m+\u001b[1;92m00:00\u001b[0m     \u001b[1;36m409164.0\u001b[0m  \u001b[1;36m100.847762\u001b[0m   AAPL  \n",
       "       \u001b[1;36m2016\u001b[0m-\u001b[1;36m01\u001b[0m-\u001b[1;36m07\u001b[0m \u001b[1;92m05:00:00\u001b[0m+\u001b[1;92m00:00\u001b[0m     \u001b[1;36m462836.0\u001b[0m   \u001b[1;36m98.046209\u001b[0m   AAPL  \n",
       "       \u001b[1;36m2016\u001b[0m-\u001b[1;36m01\u001b[0m-\u001b[1;36m08\u001b[0m \u001b[1;92m05:00:00\u001b[0m+\u001b[1;92m00:00\u001b[0m     \u001b[1;36m419555.0\u001b[0m   \u001b[1;36m97.916490\u001b[0m   AAPL  \n"
      ]
     },
     "metadata": {},
     "output_type": "display_data"
    }
   ],
   "source": [
    "\n",
    "# ---- DATA COLLECTION & CACHING ----\n",
    "def fetch_and_cache_data(tickers, start, end, cache_file):\n",
    "    if os.path.exists(cache_file):\n",
    "        rprint(\"Loading data from cache...\")\n",
    "        df = pd.read_parquet(cache_file)\n",
    "    else:\n",
    "        rprint(\"Fetching data from Alpaca...\")\n",
    "        client = StockHistoricalDataClient(ALPACA_API_KEY, ALPACA_SECRET_KEY)\n",
    "        all_data = []\n",
    "        for ticker in tickers:\n",
    "            request_params = StockBarsRequest(\n",
    "                symbol_or_symbols=ticker,\n",
    "                timeframe=TimeFrame.Day,\n",
    "                start=pd.to_datetime(start),\n",
    "                end=pd.to_datetime(end)\n",
    "            )\n",
    "            bars = client.get_stock_bars(request_params).df\n",
    "            bars['ticker'] = ticker\n",
    "            all_data.append(bars)\n",
    "        df = pd.concat(all_data)\n",
    "        df.to_parquet(cache_file)\n",
    "    return df\n",
    "\n",
    "df = fetch_and_cache_data(TICKERS, START_DATE, END_DATE, CACHE_FILE)\n",
    "rprint(df.head())\n"
   ]
  },
  {
   "cell_type": "code",
   "execution_count": 23,
   "id": "5ca88cb4",
   "metadata": {},
   "outputs": [],
   "source": [
    "\n",
    "# ---- FEATURE ENGINEERING ----\n",
    "def add_features(df):\n",
    "    df = df.copy()\n",
    "    df['return'] = df['close'].pct_change()\n",
    "    df['ma5'] = df['close'].rolling(window=5).mean()\n",
    "    df['ma10'] = df['close'].rolling(window=10).mean()\n",
    "    df['volatility'] = df['close'].rolling(window=5).std()\n",
    "    df['target'] = (df['close'].shift(-1) > df['close']).astype(int)  # 1 if next day up, else 0\n",
    "    df = df.dropna()\n",
    "    return df\n",
    "\n",
    "# 0 = SELL, 1 = HOLD, 2 = BUY\n",
    "def add_trading_signals(df, hold_threshold=0.002):\n",
    "    df = df.copy()\n",
    "    df['future_return'] = df['close'].shift(-1) / df['close'] - 1\n",
    "    # BUY if next day's return > hold_threshold, SELL if < -hold_threshold, else HOLD\n",
    "    df['signal'] = np.where(df['future_return'] > hold_threshold, 2, \n",
    "                    np.where(df['future_return'] < -hold_threshold, 0, 1))\n",
    "    df = df.dropna()\n",
    "    return df\n"
   ]
  },
  {
   "cell_type": "code",
   "execution_count": null,
   "id": "38517151",
   "metadata": {},
   "outputs": [],
   "source": [
    "\n",
    "df = add_trading_signals(df, hold_threshold=HOLD_THRESHOLD)\n",
    "df = add_features(df)"
   ]
  },
  {
   "cell_type": "code",
   "execution_count": 25,
   "id": "4198d5fa",
   "metadata": {},
   "outputs": [
    {
     "data": {
      "image/png": "[encoded data removed]",
      "text/plain": [
       "<Figure size 1200x600 with 1 Axes>"
      ]
     },
     "metadata": {},
     "output_type": "display_data"
    }
   ],
   "source": [
    "\n",
    "# ---- DATA VISUALIZATION ----\n",
    "df_plot = df.reset_index()\n",
    "plt.figure(figsize=(12,6))\n",
    "plt.plot(df_plot['timestamp'], df_plot['close'], label='Close Price')\n",
    "plt.plot(df_plot['timestamp'], df_plot['ma5'], label='MA5')\n",
    "plt.plot(df_plot['timestamp'], df_plot['ma10'], label='MA10')\n",
    "plt.title(f\"{TICKERS[0]} Price and Moving Averages\")\n",
    "plt.legend()\n",
    "plt.show()\n"
   ]
  },
  {
   "cell_type": "code",
   "execution_count": 26,
   "id": "ea79b5f5",
   "metadata": {},
   "outputs": [],
   "source": [
    "\n",
    "# ---- DATA PREPARATION ----\n",
    "features = ['open', 'high', 'low', 'close', 'volume', 'ma5', 'ma10', 'volatility']\n",
    "X = df[features].values\n",
    "y = df['signal'].values\n",
    "\n",
    "scaler = StandardScaler()\n",
    "X_scaled = scaler.fit_transform(X)\n",
    "\n",
    "X_train, X_test, y_train, y_test = train_test_split(\n",
    "    X_scaled, y, test_size=0.2, shuffle=False\n",
    ")\n"
   ]
  },
  {
   "cell_type": "code",
   "execution_count": 27,
   "id": "89b39ea4",
   "metadata": {},
   "outputs": [],
   "source": [
    "class SimpleMLP(nn.Module):\n",
    "    def __init__(self, input_dim):\n",
    "        super().__init__()\n",
    "        self.net = nn.Sequential(\n",
    "            nn.Linear(input_dim, 64),\n",
    "            nn.ReLU(),\n",
    "            nn.Linear(64, 2)\n",
    "        )\n",
    "    def forward(self, x):\n",
    "        return self.net(x)"
   ]
  },
  {
   "cell_type": "code",
   "execution_count": 28,
   "id": "5f924baa",
   "metadata": {},
   "outputs": [],
   "source": [
    "class SimpleMLP3(nn.Module):\n",
    "    def __init__(self, input_dim):\n",
    "        super().__init__()\n",
    "        self.net = nn.Sequential(\n",
    "            nn.Linear(input_dim, 64),\n",
    "            nn.ReLU(),\n",
    "            nn.Linear(64, 3)\n",
    "        )\n",
    "    def forward(self, x):\n",
    "        return self.net(x)"
   ]
  },
  {
   "cell_type": "code",
   "execution_count": 29,
   "id": "5f71cc45",
   "metadata": {},
   "outputs": [],
   "source": [
    "class ProfitLoss(torch.nn.Module):\n",
    "    def __init__(self, close_prices):\n",
    "        super().__init__()\n",
    "        self.close_prices = torch.tensor(close_prices, dtype=torch.float32).to(device)\n",
    "\n",
    "    def forward(self, outputs, targets, indices):\n",
    "        # outputs: [batch, 3], targets: [batch], indices: [batch]\n",
    "        probs = torch.softmax(outputs, dim=1)  # [batch, 3]\n",
    "\n",
    "        batch_close = self.close_prices[indices]\n",
    "        batch_next_close = self.close_prices[indices + 1]\n",
    "        change = (batch_next_close - batch_close) / batch_close  # percent change\n",
    "\n",
    "        # profit = [SELL, HOLD, BUY]\n",
    "        # SELL = price drops → profit\n",
    "        # BUY = price rises → profit\n",
    "        # HOLD = 0\n",
    "        profit_vector = torch.stack([\n",
    "            -change,                     # SELL\n",
    "            torch.zeros_like(change),   # HOLD\n",
    "            change                      # BUY\n",
    "        ], dim=1)  # [batch, 3]\n",
    "\n",
    "        expected_profit = torch.sum(probs * profit_vector, dim=1)  # [batch]\n",
    "        loss = -expected_profit.mean()  # negative to maximize expected profit\n",
    "        return loss"
   ]
  },
  {
   "cell_type": "code",
   "execution_count": 30,
   "id": "cf69e52c",
   "metadata": {},
   "outputs": [],
   "source": [
    "\n",
    "device = torch.device(\"cuda\" if torch.cuda.is_available() else \"cpu\")\n",
    "# model = SimpleMLP(X_train.shape[1]).to(device)\n",
    "# optimizer = torch.optim.Adam(model.parameters(), lr=LEARNING_RATE, weight_decay=OVERFITTING_PARAM)\n",
    "loss_fn = nn.CrossEntropyLoss()\n",
    "\n",
    "model = SimpleMLP3(X_train.shape[1]).to(device)\n",
    "optimizer = torch.optim.Adam(model.parameters(), lr=LEARNING_RATE, weight_decay=OVERFITTING_PARAM)\n",
    "profit_loss_fn = ProfitLoss(df['close'].values)\n"
   ]
  },
  {
   "cell_type": "code",
   "execution_count": 31,
   "id": "bbaca77a",
   "metadata": {},
   "outputs": [
    {
     "data": {
      "text/html": [
       "<pre style=\"white-space:pre;overflow-x:auto;line-height:normal;font-family:Menlo,'DejaVu Sans Mono',consolas,'Courier New',monospace\">Epoch <span style=\"color: #008080; text-decoration-color: #008080; font-weight: bold\">1</span>/<span style=\"color: #008080; text-decoration-color: #008080; font-weight: bold\">100</span>, Profit-based Loss: <span style=\"color: #008080; text-decoration-color: #008080; font-weight: bold\">-0.000081</span>\n",
       "</pre>\n"
      ],
      "text/plain": [
       "Epoch \u001b[1;36m1\u001b[0m/\u001b[1;36m100\u001b[0m, Profit-based Loss: \u001b[1;36m-0.000081\u001b[0m\n"
      ]
     },
     "metadata": {},
     "output_type": "display_data"
    },
    {
     "data": {
      "text/html": [
       "<pre style=\"white-space:pre;overflow-x:auto;line-height:normal;font-family:Menlo,'DejaVu Sans Mono',consolas,'Courier New',monospace\">Epoch <span style=\"color: #008080; text-decoration-color: #008080; font-weight: bold\">2</span>/<span style=\"color: #008080; text-decoration-color: #008080; font-weight: bold\">100</span>, Profit-based Loss: <span style=\"color: #008080; text-decoration-color: #008080; font-weight: bold\">-0.000085</span>\n",
       "</pre>\n"
      ],
      "text/plain": [
       "Epoch \u001b[1;36m2\u001b[0m/\u001b[1;36m100\u001b[0m, Profit-based Loss: \u001b[1;36m-0.000085\u001b[0m\n"
      ]
     },
     "metadata": {},
     "output_type": "display_data"
    },
    {
     "data": {
      "text/html": [
       "<pre style=\"white-space:pre;overflow-x:auto;line-height:normal;font-family:Menlo,'DejaVu Sans Mono',consolas,'Courier New',monospace\">Epoch <span style=\"color: #008080; text-decoration-color: #008080; font-weight: bold\">3</span>/<span style=\"color: #008080; text-decoration-color: #008080; font-weight: bold\">100</span>, Profit-based Loss: <span style=\"color: #008080; text-decoration-color: #008080; font-weight: bold\">-0.000080</span>\n",
       "</pre>\n"
      ],
      "text/plain": [
       "Epoch \u001b[1;36m3\u001b[0m/\u001b[1;36m100\u001b[0m, Profit-based Loss: \u001b[1;36m-0.000080\u001b[0m\n"
      ]
     },
     "metadata": {},
     "output_type": "display_data"
    },
    {
     "data": {
      "text/html": [
       "<pre style=\"white-space:pre;overflow-x:auto;line-height:normal;font-family:Menlo,'DejaVu Sans Mono',consolas,'Courier New',monospace\">Epoch <span style=\"color: #008080; text-decoration-color: #008080; font-weight: bold\">4</span>/<span style=\"color: #008080; text-decoration-color: #008080; font-weight: bold\">100</span>, Profit-based Loss: <span style=\"color: #008080; text-decoration-color: #008080; font-weight: bold\">-0.000080</span>\n",
       "</pre>\n"
      ],
      "text/plain": [
       "Epoch \u001b[1;36m4\u001b[0m/\u001b[1;36m100\u001b[0m, Profit-based Loss: \u001b[1;36m-0.000080\u001b[0m\n"
      ]
     },
     "metadata": {},
     "output_type": "display_data"
    },
    {
     "data": {
      "text/html": [
       "<pre style=\"white-space:pre;overflow-x:auto;line-height:normal;font-family:Menlo,'DejaVu Sans Mono',consolas,'Courier New',monospace\">Epoch <span style=\"color: #008080; text-decoration-color: #008080; font-weight: bold\">5</span>/<span style=\"color: #008080; text-decoration-color: #008080; font-weight: bold\">100</span>, Profit-based Loss: <span style=\"color: #008080; text-decoration-color: #008080; font-weight: bold\">-0.000076</span>\n",
       "</pre>\n"
      ],
      "text/plain": [
       "Epoch \u001b[1;36m5\u001b[0m/\u001b[1;36m100\u001b[0m, Profit-based Loss: \u001b[1;36m-0.000076\u001b[0m\n"
      ]
     },
     "metadata": {},
     "output_type": "display_data"
    },
    {
     "data": {
      "text/html": [
       "<pre style=\"white-space:pre;overflow-x:auto;line-height:normal;font-family:Menlo,'DejaVu Sans Mono',consolas,'Courier New',monospace\">Epoch <span style=\"color: #008080; text-decoration-color: #008080; font-weight: bold\">6</span>/<span style=\"color: #008080; text-decoration-color: #008080; font-weight: bold\">100</span>, Profit-based Loss: <span style=\"color: #008080; text-decoration-color: #008080; font-weight: bold\">-0.000080</span>\n",
       "</pre>\n"
      ],
      "text/plain": [
       "Epoch \u001b[1;36m6\u001b[0m/\u001b[1;36m100\u001b[0m, Profit-based Loss: \u001b[1;36m-0.000080\u001b[0m\n"
      ]
     },
     "metadata": {},
     "output_type": "display_data"
    },
    {
     "data": {
      "text/html": [
       "<pre style=\"white-space:pre;overflow-x:auto;line-height:normal;font-family:Menlo,'DejaVu Sans Mono',consolas,'Courier New',monospace\">Epoch <span style=\"color: #008080; text-decoration-color: #008080; font-weight: bold\">7</span>/<span style=\"color: #008080; text-decoration-color: #008080; font-weight: bold\">100</span>, Profit-based Loss: <span style=\"color: #008080; text-decoration-color: #008080; font-weight: bold\">-0.000085</span>\n",
       "</pre>\n"
      ],
      "text/plain": [
       "Epoch \u001b[1;36m7\u001b[0m/\u001b[1;36m100\u001b[0m, Profit-based Loss: \u001b[1;36m-0.000085\u001b[0m\n"
      ]
     },
     "metadata": {},
     "output_type": "display_data"
    },
    {
     "data": {
      "text/html": [
       "<pre style=\"white-space:pre;overflow-x:auto;line-height:normal;font-family:Menlo,'DejaVu Sans Mono',consolas,'Courier New',monospace\">Epoch <span style=\"color: #008080; text-decoration-color: #008080; font-weight: bold\">8</span>/<span style=\"color: #008080; text-decoration-color: #008080; font-weight: bold\">100</span>, Profit-based Loss: <span style=\"color: #008080; text-decoration-color: #008080; font-weight: bold\">-0.000080</span>\n",
       "</pre>\n"
      ],
      "text/plain": [
       "Epoch \u001b[1;36m8\u001b[0m/\u001b[1;36m100\u001b[0m, Profit-based Loss: \u001b[1;36m-0.000080\u001b[0m\n"
      ]
     },
     "metadata": {},
     "output_type": "display_data"
    },
    {
     "data": {
      "text/html": [
       "<pre style=\"white-space:pre;overflow-x:auto;line-height:normal;font-family:Menlo,'DejaVu Sans Mono',consolas,'Courier New',monospace\">Epoch <span style=\"color: #008080; text-decoration-color: #008080; font-weight: bold\">9</span>/<span style=\"color: #008080; text-decoration-color: #008080; font-weight: bold\">100</span>, Profit-based Loss: <span style=\"color: #008080; text-decoration-color: #008080; font-weight: bold\">-0.000083</span>\n",
       "</pre>\n"
      ],
      "text/plain": [
       "Epoch \u001b[1;36m9\u001b[0m/\u001b[1;36m100\u001b[0m, Profit-based Loss: \u001b[1;36m-0.000083\u001b[0m\n"
      ]
     },
     "metadata": {},
     "output_type": "display_data"
    },
    {
     "data": {
      "text/html": [
       "<pre style=\"white-space:pre;overflow-x:auto;line-height:normal;font-family:Menlo,'DejaVu Sans Mono',consolas,'Courier New',monospace\">Epoch <span style=\"color: #008080; text-decoration-color: #008080; font-weight: bold\">10</span>/<span style=\"color: #008080; text-decoration-color: #008080; font-weight: bold\">100</span>, Profit-based Loss: <span style=\"color: #008080; text-decoration-color: #008080; font-weight: bold\">-0.000080</span>\n",
       "</pre>\n"
      ],
      "text/plain": [
       "Epoch \u001b[1;36m10\u001b[0m/\u001b[1;36m100\u001b[0m, Profit-based Loss: \u001b[1;36m-0.000080\u001b[0m\n"
      ]
     },
     "metadata": {},
     "output_type": "display_data"
    },
    {
     "data": {
      "text/html": [
       "<pre style=\"white-space:pre;overflow-x:auto;line-height:normal;font-family:Menlo,'DejaVu Sans Mono',consolas,'Courier New',monospace\">Epoch <span style=\"color: #008080; text-decoration-color: #008080; font-weight: bold\">11</span>/<span style=\"color: #008080; text-decoration-color: #008080; font-weight: bold\">100</span>, Profit-based Loss: <span style=\"color: #008080; text-decoration-color: #008080; font-weight: bold\">-0.000084</span>\n",
       "</pre>\n"
      ],
      "text/plain": [
       "Epoch \u001b[1;36m11\u001b[0m/\u001b[1;36m100\u001b[0m, Profit-based Loss: \u001b[1;36m-0.000084\u001b[0m\n"
      ]
     },
     "metadata": {},
     "output_type": "display_data"
    },
    {
     "data": {
      "text/html": [
       "<pre style=\"white-space:pre;overflow-x:auto;line-height:normal;font-family:Menlo,'DejaVu Sans Mono',consolas,'Courier New',monospace\">Epoch <span style=\"color: #008080; text-decoration-color: #008080; font-weight: bold\">12</span>/<span style=\"color: #008080; text-decoration-color: #008080; font-weight: bold\">100</span>, Profit-based Loss: <span style=\"color: #008080; text-decoration-color: #008080; font-weight: bold\">-0.000080</span>\n",
       "</pre>\n"
      ],
      "text/plain": [
       "Epoch \u001b[1;36m12\u001b[0m/\u001b[1;36m100\u001b[0m, Profit-based Loss: \u001b[1;36m-0.000080\u001b[0m\n"
      ]
     },
     "metadata": {},
     "output_type": "display_data"
    },
    {
     "data": {
      "text/html": [
       "<pre style=\"white-space:pre;overflow-x:auto;line-height:normal;font-family:Menlo,'DejaVu Sans Mono',consolas,'Courier New',monospace\">Epoch <span style=\"color: #008080; text-decoration-color: #008080; font-weight: bold\">13</span>/<span style=\"color: #008080; text-decoration-color: #008080; font-weight: bold\">100</span>, Profit-based Loss: <span style=\"color: #008080; text-decoration-color: #008080; font-weight: bold\">-0.000080</span>\n",
       "</pre>\n"
      ],
      "text/plain": [
       "Epoch \u001b[1;36m13\u001b[0m/\u001b[1;36m100\u001b[0m, Profit-based Loss: \u001b[1;36m-0.000080\u001b[0m\n"
      ]
     },
     "metadata": {},
     "output_type": "display_data"
    },
    {
     "data": {
      "text/html": [
       "<pre style=\"white-space:pre;overflow-x:auto;line-height:normal;font-family:Menlo,'DejaVu Sans Mono',consolas,'Courier New',monospace\">Epoch <span style=\"color: #008080; text-decoration-color: #008080; font-weight: bold\">14</span>/<span style=\"color: #008080; text-decoration-color: #008080; font-weight: bold\">100</span>, Profit-based Loss: <span style=\"color: #008080; text-decoration-color: #008080; font-weight: bold\">-0.000079</span>\n",
       "</pre>\n"
      ],
      "text/plain": [
       "Epoch \u001b[1;36m14\u001b[0m/\u001b[1;36m100\u001b[0m, Profit-based Loss: \u001b[1;36m-0.000079\u001b[0m\n"
      ]
     },
     "metadata": {},
     "output_type": "display_data"
    },
    {
     "data": {
      "text/html": [
       "<pre style=\"white-space:pre;overflow-x:auto;line-height:normal;font-family:Menlo,'DejaVu Sans Mono',consolas,'Courier New',monospace\">Epoch <span style=\"color: #008080; text-decoration-color: #008080; font-weight: bold\">15</span>/<span style=\"color: #008080; text-decoration-color: #008080; font-weight: bold\">100</span>, Profit-based Loss: <span style=\"color: #008080; text-decoration-color: #008080; font-weight: bold\">-0.000079</span>\n",
       "</pre>\n"
      ],
      "text/plain": [
       "Epoch \u001b[1;36m15\u001b[0m/\u001b[1;36m100\u001b[0m, Profit-based Loss: \u001b[1;36m-0.000079\u001b[0m\n"
      ]
     },
     "metadata": {},
     "output_type": "display_data"
    },
    {
     "data": {
      "text/html": [
       "<pre style=\"white-space:pre;overflow-x:auto;line-height:normal;font-family:Menlo,'DejaVu Sans Mono',consolas,'Courier New',monospace\">Epoch <span style=\"color: #008080; text-decoration-color: #008080; font-weight: bold\">16</span>/<span style=\"color: #008080; text-decoration-color: #008080; font-weight: bold\">100</span>, Profit-based Loss: <span style=\"color: #008080; text-decoration-color: #008080; font-weight: bold\">-0.000071</span>\n",
       "</pre>\n"
      ],
      "text/plain": [
       "Epoch \u001b[1;36m16\u001b[0m/\u001b[1;36m100\u001b[0m, Profit-based Loss: \u001b[1;36m-0.000071\u001b[0m\n"
      ]
     },
     "metadata": {},
     "output_type": "display_data"
    },
    {
     "data": {
      "text/html": [
       "<pre style=\"white-space:pre;overflow-x:auto;line-height:normal;font-family:Menlo,'DejaVu Sans Mono',consolas,'Courier New',monospace\">Epoch <span style=\"color: #008080; text-decoration-color: #008080; font-weight: bold\">17</span>/<span style=\"color: #008080; text-decoration-color: #008080; font-weight: bold\">100</span>, Profit-based Loss: <span style=\"color: #008080; text-decoration-color: #008080; font-weight: bold\">-0.000080</span>\n",
       "</pre>\n"
      ],
      "text/plain": [
       "Epoch \u001b[1;36m17\u001b[0m/\u001b[1;36m100\u001b[0m, Profit-based Loss: \u001b[1;36m-0.000080\u001b[0m\n"
      ]
     },
     "metadata": {},
     "output_type": "display_data"
    },
    {
     "data": {
      "text/html": [
       "<pre style=\"white-space:pre;overflow-x:auto;line-height:normal;font-family:Menlo,'DejaVu Sans Mono',consolas,'Courier New',monospace\">Epoch <span style=\"color: #008080; text-decoration-color: #008080; font-weight: bold\">18</span>/<span style=\"color: #008080; text-decoration-color: #008080; font-weight: bold\">100</span>, Profit-based Loss: <span style=\"color: #008080; text-decoration-color: #008080; font-weight: bold\">-0.000080</span>\n",
       "</pre>\n"
      ],
      "text/plain": [
       "Epoch \u001b[1;36m18\u001b[0m/\u001b[1;36m100\u001b[0m, Profit-based Loss: \u001b[1;36m-0.000080\u001b[0m\n"
      ]
     },
     "metadata": {},
     "output_type": "display_data"
    },
    {
     "data": {
      "text/html": [
       "<pre style=\"white-space:pre;overflow-x:auto;line-height:normal;font-family:Menlo,'DejaVu Sans Mono',consolas,'Courier New',monospace\">Epoch <span style=\"color: #008080; text-decoration-color: #008080; font-weight: bold\">19</span>/<span style=\"color: #008080; text-decoration-color: #008080; font-weight: bold\">100</span>, Profit-based Loss: <span style=\"color: #008080; text-decoration-color: #008080; font-weight: bold\">-0.000077</span>\n",
       "</pre>\n"
      ],
      "text/plain": [
       "Epoch \u001b[1;36m19\u001b[0m/\u001b[1;36m100\u001b[0m, Profit-based Loss: \u001b[1;36m-0.000077\u001b[0m\n"
      ]
     },
     "metadata": {},
     "output_type": "display_data"
    },
    {
     "data": {
      "text/html": [
       "<pre style=\"white-space:pre;overflow-x:auto;line-height:normal;font-family:Menlo,'DejaVu Sans Mono',consolas,'Courier New',monospace\">Epoch <span style=\"color: #008080; text-decoration-color: #008080; font-weight: bold\">20</span>/<span style=\"color: #008080; text-decoration-color: #008080; font-weight: bold\">100</span>, Profit-based Loss: <span style=\"color: #008080; text-decoration-color: #008080; font-weight: bold\">-0.000077</span>\n",
       "</pre>\n"
      ],
      "text/plain": [
       "Epoch \u001b[1;36m20\u001b[0m/\u001b[1;36m100\u001b[0m, Profit-based Loss: \u001b[1;36m-0.000077\u001b[0m\n"
      ]
     },
     "metadata": {},
     "output_type": "display_data"
    },
    {
     "data": {
      "text/html": [
       "<pre style=\"white-space:pre;overflow-x:auto;line-height:normal;font-family:Menlo,'DejaVu Sans Mono',consolas,'Courier New',monospace\">Epoch <span style=\"color: #008080; text-decoration-color: #008080; font-weight: bold\">21</span>/<span style=\"color: #008080; text-decoration-color: #008080; font-weight: bold\">100</span>, Profit-based Loss: <span style=\"color: #008080; text-decoration-color: #008080; font-weight: bold\">-0.000081</span>\n",
       "</pre>\n"
      ],
      "text/plain": [
       "Epoch \u001b[1;36m21\u001b[0m/\u001b[1;36m100\u001b[0m, Profit-based Loss: \u001b[1;36m-0.000081\u001b[0m\n"
      ]
     },
     "metadata": {},
     "output_type": "display_data"
    },
    {
     "data": {
      "text/html": [
       "<pre style=\"white-space:pre;overflow-x:auto;line-height:normal;font-family:Menlo,'DejaVu Sans Mono',consolas,'Courier New',monospace\">Epoch <span style=\"color: #008080; text-decoration-color: #008080; font-weight: bold\">22</span>/<span style=\"color: #008080; text-decoration-color: #008080; font-weight: bold\">100</span>, Profit-based Loss: <span style=\"color: #008080; text-decoration-color: #008080; font-weight: bold\">-0.000077</span>\n",
       "</pre>\n"
      ],
      "text/plain": [
       "Epoch \u001b[1;36m22\u001b[0m/\u001b[1;36m100\u001b[0m, Profit-based Loss: \u001b[1;36m-0.000077\u001b[0m\n"
      ]
     },
     "metadata": {},
     "output_type": "display_data"
    },
    {
     "data": {
      "text/html": [
       "<pre style=\"white-space:pre;overflow-x:auto;line-height:normal;font-family:Menlo,'DejaVu Sans Mono',consolas,'Courier New',monospace\">Epoch <span style=\"color: #008080; text-decoration-color: #008080; font-weight: bold\">23</span>/<span style=\"color: #008080; text-decoration-color: #008080; font-weight: bold\">100</span>, Profit-based Loss: <span style=\"color: #008080; text-decoration-color: #008080; font-weight: bold\">-0.000078</span>\n",
       "</pre>\n"
      ],
      "text/plain": [
       "Epoch \u001b[1;36m23\u001b[0m/\u001b[1;36m100\u001b[0m, Profit-based Loss: \u001b[1;36m-0.000078\u001b[0m\n"
      ]
     },
     "metadata": {},
     "output_type": "display_data"
    },
    {
     "data": {
      "text/html": [
       "<pre style=\"white-space:pre;overflow-x:auto;line-height:normal;font-family:Menlo,'DejaVu Sans Mono',consolas,'Courier New',monospace\">Epoch <span style=\"color: #008080; text-decoration-color: #008080; font-weight: bold\">24</span>/<span style=\"color: #008080; text-decoration-color: #008080; font-weight: bold\">100</span>, Profit-based Loss: <span style=\"color: #008080; text-decoration-color: #008080; font-weight: bold\">-0.000073</span>\n",
       "</pre>\n"
      ],
      "text/plain": [
       "Epoch \u001b[1;36m24\u001b[0m/\u001b[1;36m100\u001b[0m, Profit-based Loss: \u001b[1;36m-0.000073\u001b[0m\n"
      ]
     },
     "metadata": {},
     "output_type": "display_data"
    },
    {
     "data": {
      "text/html": [
       "<pre style=\"white-space:pre;overflow-x:auto;line-height:normal;font-family:Menlo,'DejaVu Sans Mono',consolas,'Courier New',monospace\">Epoch <span style=\"color: #008080; text-decoration-color: #008080; font-weight: bold\">25</span>/<span style=\"color: #008080; text-decoration-color: #008080; font-weight: bold\">100</span>, Profit-based Loss: <span style=\"color: #008080; text-decoration-color: #008080; font-weight: bold\">-0.000076</span>\n",
       "</pre>\n"
      ],
      "text/plain": [
       "Epoch \u001b[1;36m25\u001b[0m/\u001b[1;36m100\u001b[0m, Profit-based Loss: \u001b[1;36m-0.000076\u001b[0m\n"
      ]
     },
     "metadata": {},
     "output_type": "display_data"
    },
    {
     "data": {
      "text/html": [
       "<pre style=\"white-space:pre;overflow-x:auto;line-height:normal;font-family:Menlo,'DejaVu Sans Mono',consolas,'Courier New',monospace\">Epoch <span style=\"color: #008080; text-decoration-color: #008080; font-weight: bold\">26</span>/<span style=\"color: #008080; text-decoration-color: #008080; font-weight: bold\">100</span>, Profit-based Loss: <span style=\"color: #008080; text-decoration-color: #008080; font-weight: bold\">-0.000077</span>\n",
       "</pre>\n"
      ],
      "text/plain": [
       "Epoch \u001b[1;36m26\u001b[0m/\u001b[1;36m100\u001b[0m, Profit-based Loss: \u001b[1;36m-0.000077\u001b[0m\n"
      ]
     },
     "metadata": {},
     "output_type": "display_data"
    },
    {
     "data": {
      "text/html": [
       "<pre style=\"white-space:pre;overflow-x:auto;line-height:normal;font-family:Menlo,'DejaVu Sans Mono',consolas,'Courier New',monospace\">Epoch <span style=\"color: #008080; text-decoration-color: #008080; font-weight: bold\">27</span>/<span style=\"color: #008080; text-decoration-color: #008080; font-weight: bold\">100</span>, Profit-based Loss: <span style=\"color: #008080; text-decoration-color: #008080; font-weight: bold\">-0.000073</span>\n",
       "</pre>\n"
      ],
      "text/plain": [
       "Epoch \u001b[1;36m27\u001b[0m/\u001b[1;36m100\u001b[0m, Profit-based Loss: \u001b[1;36m-0.000073\u001b[0m\n"
      ]
     },
     "metadata": {},
     "output_type": "display_data"
    },
    {
     "data": {
      "text/html": [
       "<pre style=\"white-space:pre;overflow-x:auto;line-height:normal;font-family:Menlo,'DejaVu Sans Mono',consolas,'Courier New',monospace\">Epoch <span style=\"color: #008080; text-decoration-color: #008080; font-weight: bold\">28</span>/<span style=\"color: #008080; text-decoration-color: #008080; font-weight: bold\">100</span>, Profit-based Loss: <span style=\"color: #008080; text-decoration-color: #008080; font-weight: bold\">-0.000074</span>\n",
       "</pre>\n"
      ],
      "text/plain": [
       "Epoch \u001b[1;36m28\u001b[0m/\u001b[1;36m100\u001b[0m, Profit-based Loss: \u001b[1;36m-0.000074\u001b[0m\n"
      ]
     },
     "metadata": {},
     "output_type": "display_data"
    },
    {
     "data": {
      "text/html": [
       "<pre style=\"white-space:pre;overflow-x:auto;line-height:normal;font-family:Menlo,'DejaVu Sans Mono',consolas,'Courier New',monospace\">Epoch <span style=\"color: #008080; text-decoration-color: #008080; font-weight: bold\">29</span>/<span style=\"color: #008080; text-decoration-color: #008080; font-weight: bold\">100</span>, Profit-based Loss: <span style=\"color: #008080; text-decoration-color: #008080; font-weight: bold\">-0.000072</span>\n",
       "</pre>\n"
      ],
      "text/plain": [
       "Epoch \u001b[1;36m29\u001b[0m/\u001b[1;36m100\u001b[0m, Profit-based Loss: \u001b[1;36m-0.000072\u001b[0m\n"
      ]
     },
     "metadata": {},
     "output_type": "display_data"
    },
    {
     "data": {
      "text/html": [
       "<pre style=\"white-space:pre;overflow-x:auto;line-height:normal;font-family:Menlo,'DejaVu Sans Mono',consolas,'Courier New',monospace\">Epoch <span style=\"color: #008080; text-decoration-color: #008080; font-weight: bold\">30</span>/<span style=\"color: #008080; text-decoration-color: #008080; font-weight: bold\">100</span>, Profit-based Loss: <span style=\"color: #008080; text-decoration-color: #008080; font-weight: bold\">-0.000075</span>\n",
       "</pre>\n"
      ],
      "text/plain": [
       "Epoch \u001b[1;36m30\u001b[0m/\u001b[1;36m100\u001b[0m, Profit-based Loss: \u001b[1;36m-0.000075\u001b[0m\n"
      ]
     },
     "metadata": {},
     "output_type": "display_data"
    },
    {
     "data": {
      "text/html": [
       "<pre style=\"white-space:pre;overflow-x:auto;line-height:normal;font-family:Menlo,'DejaVu Sans Mono',consolas,'Courier New',monospace\">Epoch <span style=\"color: #008080; text-decoration-color: #008080; font-weight: bold\">31</span>/<span style=\"color: #008080; text-decoration-color: #008080; font-weight: bold\">100</span>, Profit-based Loss: <span style=\"color: #008080; text-decoration-color: #008080; font-weight: bold\">-0.000073</span>\n",
       "</pre>\n"
      ],
      "text/plain": [
       "Epoch \u001b[1;36m31\u001b[0m/\u001b[1;36m100\u001b[0m, Profit-based Loss: \u001b[1;36m-0.000073\u001b[0m\n"
      ]
     },
     "metadata": {},
     "output_type": "display_data"
    },
    {
     "data": {
      "text/html": [
       "<pre style=\"white-space:pre;overflow-x:auto;line-height:normal;font-family:Menlo,'DejaVu Sans Mono',consolas,'Courier New',monospace\">Epoch <span style=\"color: #008080; text-decoration-color: #008080; font-weight: bold\">32</span>/<span style=\"color: #008080; text-decoration-color: #008080; font-weight: bold\">100</span>, Profit-based Loss: <span style=\"color: #008080; text-decoration-color: #008080; font-weight: bold\">-0.000073</span>\n",
       "</pre>\n"
      ],
      "text/plain": [
       "Epoch \u001b[1;36m32\u001b[0m/\u001b[1;36m100\u001b[0m, Profit-based Loss: \u001b[1;36m-0.000073\u001b[0m\n"
      ]
     },
     "metadata": {},
     "output_type": "display_data"
    },
    {
     "data": {
      "text/html": [
       "<pre style=\"white-space:pre;overflow-x:auto;line-height:normal;font-family:Menlo,'DejaVu Sans Mono',consolas,'Courier New',monospace\">Epoch <span style=\"color: #008080; text-decoration-color: #008080; font-weight: bold\">33</span>/<span style=\"color: #008080; text-decoration-color: #008080; font-weight: bold\">100</span>, Profit-based Loss: <span style=\"color: #008080; text-decoration-color: #008080; font-weight: bold\">-0.000068</span>\n",
       "</pre>\n"
      ],
      "text/plain": [
       "Epoch \u001b[1;36m33\u001b[0m/\u001b[1;36m100\u001b[0m, Profit-based Loss: \u001b[1;36m-0.000068\u001b[0m\n"
      ]
     },
     "metadata": {},
     "output_type": "display_data"
    },
    {
     "data": {
      "text/html": [
       "<pre style=\"white-space:pre;overflow-x:auto;line-height:normal;font-family:Menlo,'DejaVu Sans Mono',consolas,'Courier New',monospace\">Epoch <span style=\"color: #008080; text-decoration-color: #008080; font-weight: bold\">34</span>/<span style=\"color: #008080; text-decoration-color: #008080; font-weight: bold\">100</span>, Profit-based Loss: <span style=\"color: #008080; text-decoration-color: #008080; font-weight: bold\">-0.000068</span>\n",
       "</pre>\n"
      ],
      "text/plain": [
       "Epoch \u001b[1;36m34\u001b[0m/\u001b[1;36m100\u001b[0m, Profit-based Loss: \u001b[1;36m-0.000068\u001b[0m\n"
      ]
     },
     "metadata": {},
     "output_type": "display_data"
    },
    {
     "data": {
      "text/html": [
       "<pre style=\"white-space:pre;overflow-x:auto;line-height:normal;font-family:Menlo,'DejaVu Sans Mono',consolas,'Courier New',monospace\">Epoch <span style=\"color: #008080; text-decoration-color: #008080; font-weight: bold\">35</span>/<span style=\"color: #008080; text-decoration-color: #008080; font-weight: bold\">100</span>, Profit-based Loss: <span style=\"color: #008080; text-decoration-color: #008080; font-weight: bold\">-0.000069</span>\n",
       "</pre>\n"
      ],
      "text/plain": [
       "Epoch \u001b[1;36m35\u001b[0m/\u001b[1;36m100\u001b[0m, Profit-based Loss: \u001b[1;36m-0.000069\u001b[0m\n"
      ]
     },
     "metadata": {},
     "output_type": "display_data"
    },
    {
     "data": {
      "text/html": [
       "<pre style=\"white-space:pre;overflow-x:auto;line-height:normal;font-family:Menlo,'DejaVu Sans Mono',consolas,'Courier New',monospace\">Epoch <span style=\"color: #008080; text-decoration-color: #008080; font-weight: bold\">36</span>/<span style=\"color: #008080; text-decoration-color: #008080; font-weight: bold\">100</span>, Profit-based Loss: <span style=\"color: #008080; text-decoration-color: #008080; font-weight: bold\">-0.000068</span>\n",
       "</pre>\n"
      ],
      "text/plain": [
       "Epoch \u001b[1;36m36\u001b[0m/\u001b[1;36m100\u001b[0m, Profit-based Loss: \u001b[1;36m-0.000068\u001b[0m\n"
      ]
     },
     "metadata": {},
     "output_type": "display_data"
    },
    {
     "data": {
      "text/html": [
       "<pre style=\"white-space:pre;overflow-x:auto;line-height:normal;font-family:Menlo,'DejaVu Sans Mono',consolas,'Courier New',monospace\">Epoch <span style=\"color: #008080; text-decoration-color: #008080; font-weight: bold\">37</span>/<span style=\"color: #008080; text-decoration-color: #008080; font-weight: bold\">100</span>, Profit-based Loss: <span style=\"color: #008080; text-decoration-color: #008080; font-weight: bold\">-0.000065</span>\n",
       "</pre>\n"
      ],
      "text/plain": [
       "Epoch \u001b[1;36m37\u001b[0m/\u001b[1;36m100\u001b[0m, Profit-based Loss: \u001b[1;36m-0.000065\u001b[0m\n"
      ]
     },
     "metadata": {},
     "output_type": "display_data"
    },
    {
     "data": {
      "text/html": [
       "<pre style=\"white-space:pre;overflow-x:auto;line-height:normal;font-family:Menlo,'DejaVu Sans Mono',consolas,'Courier New',monospace\">Epoch <span style=\"color: #008080; text-decoration-color: #008080; font-weight: bold\">38</span>/<span style=\"color: #008080; text-decoration-color: #008080; font-weight: bold\">100</span>, Profit-based Loss: <span style=\"color: #008080; text-decoration-color: #008080; font-weight: bold\">-0.000063</span>\n",
       "</pre>\n"
      ],
      "text/plain": [
       "Epoch \u001b[1;36m38\u001b[0m/\u001b[1;36m100\u001b[0m, Profit-based Loss: \u001b[1;36m-0.000063\u001b[0m\n"
      ]
     },
     "metadata": {},
     "output_type": "display_data"
    },
    {
     "data": {
      "text/html": [
       "<pre style=\"white-space:pre;overflow-x:auto;line-height:normal;font-family:Menlo,'DejaVu Sans Mono',consolas,'Courier New',monospace\">Epoch <span style=\"color: #008080; text-decoration-color: #008080; font-weight: bold\">39</span>/<span style=\"color: #008080; text-decoration-color: #008080; font-weight: bold\">100</span>, Profit-based Loss: <span style=\"color: #008080; text-decoration-color: #008080; font-weight: bold\">-0.000065</span>\n",
       "</pre>\n"
      ],
      "text/plain": [
       "Epoch \u001b[1;36m39\u001b[0m/\u001b[1;36m100\u001b[0m, Profit-based Loss: \u001b[1;36m-0.000065\u001b[0m\n"
      ]
     },
     "metadata": {},
     "output_type": "display_data"
    },
    {
     "data": {
      "text/html": [
       "<pre style=\"white-space:pre;overflow-x:auto;line-height:normal;font-family:Menlo,'DejaVu Sans Mono',consolas,'Courier New',monospace\">Epoch <span style=\"color: #008080; text-decoration-color: #008080; font-weight: bold\">40</span>/<span style=\"color: #008080; text-decoration-color: #008080; font-weight: bold\">100</span>, Profit-based Loss: <span style=\"color: #008080; text-decoration-color: #008080; font-weight: bold\">-0.000059</span>\n",
       "</pre>\n"
      ],
      "text/plain": [
       "Epoch \u001b[1;36m40\u001b[0m/\u001b[1;36m100\u001b[0m, Profit-based Loss: \u001b[1;36m-0.000059\u001b[0m\n"
      ]
     },
     "metadata": {},
     "output_type": "display_data"
    },
    {
     "data": {
      "text/html": [
       "<pre style=\"white-space:pre;overflow-x:auto;line-height:normal;font-family:Menlo,'DejaVu Sans Mono',consolas,'Courier New',monospace\">Epoch <span style=\"color: #008080; text-decoration-color: #008080; font-weight: bold\">41</span>/<span style=\"color: #008080; text-decoration-color: #008080; font-weight: bold\">100</span>, Profit-based Loss: <span style=\"color: #008080; text-decoration-color: #008080; font-weight: bold\">-0.000064</span>\n",
       "</pre>\n"
      ],
      "text/plain": [
       "Epoch \u001b[1;36m41\u001b[0m/\u001b[1;36m100\u001b[0m, Profit-based Loss: \u001b[1;36m-0.000064\u001b[0m\n"
      ]
     },
     "metadata": {},
     "output_type": "display_data"
    },
    {
     "data": {
      "text/html": [
       "<pre style=\"white-space:pre;overflow-x:auto;line-height:normal;font-family:Menlo,'DejaVu Sans Mono',consolas,'Courier New',monospace\">Epoch <span style=\"color: #008080; text-decoration-color: #008080; font-weight: bold\">42</span>/<span style=\"color: #008080; text-decoration-color: #008080; font-weight: bold\">100</span>, Profit-based Loss: <span style=\"color: #008080; text-decoration-color: #008080; font-weight: bold\">-0.000062</span>\n",
       "</pre>\n"
      ],
      "text/plain": [
       "Epoch \u001b[1;36m42\u001b[0m/\u001b[1;36m100\u001b[0m, Profit-based Loss: \u001b[1;36m-0.000062\u001b[0m\n"
      ]
     },
     "metadata": {},
     "output_type": "display_data"
    },
    {
     "data": {
      "text/html": [
       "<pre style=\"white-space:pre;overflow-x:auto;line-height:normal;font-family:Menlo,'DejaVu Sans Mono',consolas,'Courier New',monospace\">Epoch <span style=\"color: #008080; text-decoration-color: #008080; font-weight: bold\">43</span>/<span style=\"color: #008080; text-decoration-color: #008080; font-weight: bold\">100</span>, Profit-based Loss: <span style=\"color: #008080; text-decoration-color: #008080; font-weight: bold\">-0.000064</span>\n",
       "</pre>\n"
      ],
      "text/plain": [
       "Epoch \u001b[1;36m43\u001b[0m/\u001b[1;36m100\u001b[0m, Profit-based Loss: \u001b[1;36m-0.000064\u001b[0m\n"
      ]
     },
     "metadata": {},
     "output_type": "display_data"
    },
    {
     "data": {
      "text/html": [
       "<pre style=\"white-space:pre;overflow-x:auto;line-height:normal;font-family:Menlo,'DejaVu Sans Mono',consolas,'Courier New',monospace\">Epoch <span style=\"color: #008080; text-decoration-color: #008080; font-weight: bold\">44</span>/<span style=\"color: #008080; text-decoration-color: #008080; font-weight: bold\">100</span>, Profit-based Loss: <span style=\"color: #008080; text-decoration-color: #008080; font-weight: bold\">-0.000060</span>\n",
       "</pre>\n"
      ],
      "text/plain": [
       "Epoch \u001b[1;36m44\u001b[0m/\u001b[1;36m100\u001b[0m, Profit-based Loss: \u001b[1;36m-0.000060\u001b[0m\n"
      ]
     },
     "metadata": {},
     "output_type": "display_data"
    },
    {
     "data": {
      "text/html": [
       "<pre style=\"white-space:pre;overflow-x:auto;line-height:normal;font-family:Menlo,'DejaVu Sans Mono',consolas,'Courier New',monospace\">Epoch <span style=\"color: #008080; text-decoration-color: #008080; font-weight: bold\">45</span>/<span style=\"color: #008080; text-decoration-color: #008080; font-weight: bold\">100</span>, Profit-based Loss: <span style=\"color: #008080; text-decoration-color: #008080; font-weight: bold\">-0.000062</span>\n",
       "</pre>\n"
      ],
      "text/plain": [
       "Epoch \u001b[1;36m45\u001b[0m/\u001b[1;36m100\u001b[0m, Profit-based Loss: \u001b[1;36m-0.000062\u001b[0m\n"
      ]
     },
     "metadata": {},
     "output_type": "display_data"
    },
    {
     "data": {
      "text/html": [
       "<pre style=\"white-space:pre;overflow-x:auto;line-height:normal;font-family:Menlo,'DejaVu Sans Mono',consolas,'Courier New',monospace\">Epoch <span style=\"color: #008080; text-decoration-color: #008080; font-weight: bold\">46</span>/<span style=\"color: #008080; text-decoration-color: #008080; font-weight: bold\">100</span>, Profit-based Loss: <span style=\"color: #008080; text-decoration-color: #008080; font-weight: bold\">-0.000061</span>\n",
       "</pre>\n"
      ],
      "text/plain": [
       "Epoch \u001b[1;36m46\u001b[0m/\u001b[1;36m100\u001b[0m, Profit-based Loss: \u001b[1;36m-0.000061\u001b[0m\n"
      ]
     },
     "metadata": {},
     "output_type": "display_data"
    },
    {
     "data": {
      "text/html": [
       "<pre style=\"white-space:pre;overflow-x:auto;line-height:normal;font-family:Menlo,'DejaVu Sans Mono',consolas,'Courier New',monospace\">Epoch <span style=\"color: #008080; text-decoration-color: #008080; font-weight: bold\">47</span>/<span style=\"color: #008080; text-decoration-color: #008080; font-weight: bold\">100</span>, Profit-based Loss: <span style=\"color: #008080; text-decoration-color: #008080; font-weight: bold\">-0.000058</span>\n",
       "</pre>\n"
      ],
      "text/plain": [
       "Epoch \u001b[1;36m47\u001b[0m/\u001b[1;36m100\u001b[0m, Profit-based Loss: \u001b[1;36m-0.000058\u001b[0m\n"
      ]
     },
     "metadata": {},
     "output_type": "display_data"
    },
    {
     "data": {
      "text/html": [
       "<pre style=\"white-space:pre;overflow-x:auto;line-height:normal;font-family:Menlo,'DejaVu Sans Mono',consolas,'Courier New',monospace\">Epoch <span style=\"color: #008080; text-decoration-color: #008080; font-weight: bold\">48</span>/<span style=\"color: #008080; text-decoration-color: #008080; font-weight: bold\">100</span>, Profit-based Loss: <span style=\"color: #008080; text-decoration-color: #008080; font-weight: bold\">-0.000057</span>\n",
       "</pre>\n"
      ],
      "text/plain": [
       "Epoch \u001b[1;36m48\u001b[0m/\u001b[1;36m100\u001b[0m, Profit-based Loss: \u001b[1;36m-0.000057\u001b[0m\n"
      ]
     },
     "metadata": {},
     "output_type": "display_data"
    },
    {
     "data": {
      "text/html": [
       "<pre style=\"white-space:pre;overflow-x:auto;line-height:normal;font-family:Menlo,'DejaVu Sans Mono',consolas,'Courier New',monospace\">Epoch <span style=\"color: #008080; text-decoration-color: #008080; font-weight: bold\">49</span>/<span style=\"color: #008080; text-decoration-color: #008080; font-weight: bold\">100</span>, Profit-based Loss: <span style=\"color: #008080; text-decoration-color: #008080; font-weight: bold\">-0.000055</span>\n",
       "</pre>\n"
      ],
      "text/plain": [
       "Epoch \u001b[1;36m49\u001b[0m/\u001b[1;36m100\u001b[0m, Profit-based Loss: \u001b[1;36m-0.000055\u001b[0m\n"
      ]
     },
     "metadata": {},
     "output_type": "display_data"
    },
    {
     "data": {
      "text/html": [
       "<pre style=\"white-space:pre;overflow-x:auto;line-height:normal;font-family:Menlo,'DejaVu Sans Mono',consolas,'Courier New',monospace\">Epoch <span style=\"color: #008080; text-decoration-color: #008080; font-weight: bold\">50</span>/<span style=\"color: #008080; text-decoration-color: #008080; font-weight: bold\">100</span>, Profit-based Loss: <span style=\"color: #008080; text-decoration-color: #008080; font-weight: bold\">-0.000057</span>\n",
       "</pre>\n"
      ],
      "text/plain": [
       "Epoch \u001b[1;36m50\u001b[0m/\u001b[1;36m100\u001b[0m, Profit-based Loss: \u001b[1;36m-0.000057\u001b[0m\n"
      ]
     },
     "metadata": {},
     "output_type": "display_data"
    },
    {
     "data": {
      "text/html": [
       "<pre style=\"white-space:pre;overflow-x:auto;line-height:normal;font-family:Menlo,'DejaVu Sans Mono',consolas,'Courier New',monospace\">Epoch <span style=\"color: #008080; text-decoration-color: #008080; font-weight: bold\">51</span>/<span style=\"color: #008080; text-decoration-color: #008080; font-weight: bold\">100</span>, Profit-based Loss: <span style=\"color: #008080; text-decoration-color: #008080; font-weight: bold\">-0.000056</span>\n",
       "</pre>\n"
      ],
      "text/plain": [
       "Epoch \u001b[1;36m51\u001b[0m/\u001b[1;36m100\u001b[0m, Profit-based Loss: \u001b[1;36m-0.000056\u001b[0m\n"
      ]
     },
     "metadata": {},
     "output_type": "display_data"
    },
    {
     "data": {
      "text/html": [
       "<pre style=\"white-space:pre;overflow-x:auto;line-height:normal;font-family:Menlo,'DejaVu Sans Mono',consolas,'Courier New',monospace\">Epoch <span style=\"color: #008080; text-decoration-color: #008080; font-weight: bold\">52</span>/<span style=\"color: #008080; text-decoration-color: #008080; font-weight: bold\">100</span>, Profit-based Loss: <span style=\"color: #008080; text-decoration-color: #008080; font-weight: bold\">-0.000057</span>\n",
       "</pre>\n"
      ],
      "text/plain": [
       "Epoch \u001b[1;36m52\u001b[0m/\u001b[1;36m100\u001b[0m, Profit-based Loss: \u001b[1;36m-0.000057\u001b[0m\n"
      ]
     },
     "metadata": {},
     "output_type": "display_data"
    },
    {
     "data": {
      "text/html": [
       "<pre style=\"white-space:pre;overflow-x:auto;line-height:normal;font-family:Menlo,'DejaVu Sans Mono',consolas,'Courier New',monospace\">Epoch <span style=\"color: #008080; text-decoration-color: #008080; font-weight: bold\">53</span>/<span style=\"color: #008080; text-decoration-color: #008080; font-weight: bold\">100</span>, Profit-based Loss: <span style=\"color: #008080; text-decoration-color: #008080; font-weight: bold\">-0.000053</span>\n",
       "</pre>\n"
      ],
      "text/plain": [
       "Epoch \u001b[1;36m53\u001b[0m/\u001b[1;36m100\u001b[0m, Profit-based Loss: \u001b[1;36m-0.000053\u001b[0m\n"
      ]
     },
     "metadata": {},
     "output_type": "display_data"
    },
    {
     "data": {
      "text/html": [
       "<pre style=\"white-space:pre;overflow-x:auto;line-height:normal;font-family:Menlo,'DejaVu Sans Mono',consolas,'Courier New',monospace\">Epoch <span style=\"color: #008080; text-decoration-color: #008080; font-weight: bold\">54</span>/<span style=\"color: #008080; text-decoration-color: #008080; font-weight: bold\">100</span>, Profit-based Loss: <span style=\"color: #008080; text-decoration-color: #008080; font-weight: bold\">-0.000053</span>\n",
       "</pre>\n"
      ],
      "text/plain": [
       "Epoch \u001b[1;36m54\u001b[0m/\u001b[1;36m100\u001b[0m, Profit-based Loss: \u001b[1;36m-0.000053\u001b[0m\n"
      ]
     },
     "metadata": {},
     "output_type": "display_data"
    },
    {
     "data": {
      "text/html": [
       "<pre style=\"white-space:pre;overflow-x:auto;line-height:normal;font-family:Menlo,'DejaVu Sans Mono',consolas,'Courier New',monospace\">Epoch <span style=\"color: #008080; text-decoration-color: #008080; font-weight: bold\">55</span>/<span style=\"color: #008080; text-decoration-color: #008080; font-weight: bold\">100</span>, Profit-based Loss: <span style=\"color: #008080; text-decoration-color: #008080; font-weight: bold\">-0.000051</span>\n",
       "</pre>\n"
      ],
      "text/plain": [
       "Epoch \u001b[1;36m55\u001b[0m/\u001b[1;36m100\u001b[0m, Profit-based Loss: \u001b[1;36m-0.000051\u001b[0m\n"
      ]
     },
     "metadata": {},
     "output_type": "display_data"
    },
    {
     "data": {
      "text/html": [
       "<pre style=\"white-space:pre;overflow-x:auto;line-height:normal;font-family:Menlo,'DejaVu Sans Mono',consolas,'Courier New',monospace\">Epoch <span style=\"color: #008080; text-decoration-color: #008080; font-weight: bold\">56</span>/<span style=\"color: #008080; text-decoration-color: #008080; font-weight: bold\">100</span>, Profit-based Loss: <span style=\"color: #008080; text-decoration-color: #008080; font-weight: bold\">-0.000051</span>\n",
       "</pre>\n"
      ],
      "text/plain": [
       "Epoch \u001b[1;36m56\u001b[0m/\u001b[1;36m100\u001b[0m, Profit-based Loss: \u001b[1;36m-0.000051\u001b[0m\n"
      ]
     },
     "metadata": {},
     "output_type": "display_data"
    },
    {
     "data": {
      "text/html": [
       "<pre style=\"white-space:pre;overflow-x:auto;line-height:normal;font-family:Menlo,'DejaVu Sans Mono',consolas,'Courier New',monospace\">Epoch <span style=\"color: #008080; text-decoration-color: #008080; font-weight: bold\">57</span>/<span style=\"color: #008080; text-decoration-color: #008080; font-weight: bold\">100</span>, Profit-based Loss: <span style=\"color: #008080; text-decoration-color: #008080; font-weight: bold\">-0.000052</span>\n",
       "</pre>\n"
      ],
      "text/plain": [
       "Epoch \u001b[1;36m57\u001b[0m/\u001b[1;36m100\u001b[0m, Profit-based Loss: \u001b[1;36m-0.000052\u001b[0m\n"
      ]
     },
     "metadata": {},
     "output_type": "display_data"
    },
    {
     "data": {
      "text/html": [
       "<pre style=\"white-space:pre;overflow-x:auto;line-height:normal;font-family:Menlo,'DejaVu Sans Mono',consolas,'Courier New',monospace\">Epoch <span style=\"color: #008080; text-decoration-color: #008080; font-weight: bold\">58</span>/<span style=\"color: #008080; text-decoration-color: #008080; font-weight: bold\">100</span>, Profit-based Loss: <span style=\"color: #008080; text-decoration-color: #008080; font-weight: bold\">-0.000052</span>\n",
       "</pre>\n"
      ],
      "text/plain": [
       "Epoch \u001b[1;36m58\u001b[0m/\u001b[1;36m100\u001b[0m, Profit-based Loss: \u001b[1;36m-0.000052\u001b[0m\n"
      ]
     },
     "metadata": {},
     "output_type": "display_data"
    },
    {
     "data": {
      "text/html": [
       "<pre style=\"white-space:pre;overflow-x:auto;line-height:normal;font-family:Menlo,'DejaVu Sans Mono',consolas,'Courier New',monospace\">Epoch <span style=\"color: #008080; text-decoration-color: #008080; font-weight: bold\">59</span>/<span style=\"color: #008080; text-decoration-color: #008080; font-weight: bold\">100</span>, Profit-based Loss: <span style=\"color: #008080; text-decoration-color: #008080; font-weight: bold\">-0.000051</span>\n",
       "</pre>\n"
      ],
      "text/plain": [
       "Epoch \u001b[1;36m59\u001b[0m/\u001b[1;36m100\u001b[0m, Profit-based Loss: \u001b[1;36m-0.000051\u001b[0m\n"
      ]
     },
     "metadata": {},
     "output_type": "display_data"
    },
    {
     "data": {
      "text/html": [
       "<pre style=\"white-space:pre;overflow-x:auto;line-height:normal;font-family:Menlo,'DejaVu Sans Mono',consolas,'Courier New',monospace\">Epoch <span style=\"color: #008080; text-decoration-color: #008080; font-weight: bold\">60</span>/<span style=\"color: #008080; text-decoration-color: #008080; font-weight: bold\">100</span>, Profit-based Loss: <span style=\"color: #008080; text-decoration-color: #008080; font-weight: bold\">-0.000048</span>\n",
       "</pre>\n"
      ],
      "text/plain": [
       "Epoch \u001b[1;36m60\u001b[0m/\u001b[1;36m100\u001b[0m, Profit-based Loss: \u001b[1;36m-0.000048\u001b[0m\n"
      ]
     },
     "metadata": {},
     "output_type": "display_data"
    },
    {
     "data": {
      "text/html": [
       "<pre style=\"white-space:pre;overflow-x:auto;line-height:normal;font-family:Menlo,'DejaVu Sans Mono',consolas,'Courier New',monospace\">Epoch <span style=\"color: #008080; text-decoration-color: #008080; font-weight: bold\">61</span>/<span style=\"color: #008080; text-decoration-color: #008080; font-weight: bold\">100</span>, Profit-based Loss: <span style=\"color: #008080; text-decoration-color: #008080; font-weight: bold\">-0.000048</span>\n",
       "</pre>\n"
      ],
      "text/plain": [
       "Epoch \u001b[1;36m61\u001b[0m/\u001b[1;36m100\u001b[0m, Profit-based Loss: \u001b[1;36m-0.000048\u001b[0m\n"
      ]
     },
     "metadata": {},
     "output_type": "display_data"
    },
    {
     "data": {
      "text/html": [
       "<pre style=\"white-space:pre;overflow-x:auto;line-height:normal;font-family:Menlo,'DejaVu Sans Mono',consolas,'Courier New',monospace\">Epoch <span style=\"color: #008080; text-decoration-color: #008080; font-weight: bold\">62</span>/<span style=\"color: #008080; text-decoration-color: #008080; font-weight: bold\">100</span>, Profit-based Loss: <span style=\"color: #008080; text-decoration-color: #008080; font-weight: bold\">-0.000046</span>\n",
       "</pre>\n"
      ],
      "text/plain": [
       "Epoch \u001b[1;36m62\u001b[0m/\u001b[1;36m100\u001b[0m, Profit-based Loss: \u001b[1;36m-0.000046\u001b[0m\n"
      ]
     },
     "metadata": {},
     "output_type": "display_data"
    },
    {
     "data": {
      "text/html": [
       "<pre style=\"white-space:pre;overflow-x:auto;line-height:normal;font-family:Menlo,'DejaVu Sans Mono',consolas,'Courier New',monospace\">Epoch <span style=\"color: #008080; text-decoration-color: #008080; font-weight: bold\">63</span>/<span style=\"color: #008080; text-decoration-color: #008080; font-weight: bold\">100</span>, Profit-based Loss: <span style=\"color: #008080; text-decoration-color: #008080; font-weight: bold\">-0.000043</span>\n",
       "</pre>\n"
      ],
      "text/plain": [
       "Epoch \u001b[1;36m63\u001b[0m/\u001b[1;36m100\u001b[0m, Profit-based Loss: \u001b[1;36m-0.000043\u001b[0m\n"
      ]
     },
     "metadata": {},
     "output_type": "display_data"
    },
    {
     "data": {
      "text/html": [
       "<pre style=\"white-space:pre;overflow-x:auto;line-height:normal;font-family:Menlo,'DejaVu Sans Mono',consolas,'Courier New',monospace\">Epoch <span style=\"color: #008080; text-decoration-color: #008080; font-weight: bold\">64</span>/<span style=\"color: #008080; text-decoration-color: #008080; font-weight: bold\">100</span>, Profit-based Loss: <span style=\"color: #008080; text-decoration-color: #008080; font-weight: bold\">-0.000046</span>\n",
       "</pre>\n"
      ],
      "text/plain": [
       "Epoch \u001b[1;36m64\u001b[0m/\u001b[1;36m100\u001b[0m, Profit-based Loss: \u001b[1;36m-0.000046\u001b[0m\n"
      ]
     },
     "metadata": {},
     "output_type": "display_data"
    },
    {
     "data": {
      "text/html": [
       "<pre style=\"white-space:pre;overflow-x:auto;line-height:normal;font-family:Menlo,'DejaVu Sans Mono',consolas,'Courier New',monospace\">Epoch <span style=\"color: #008080; text-decoration-color: #008080; font-weight: bold\">65</span>/<span style=\"color: #008080; text-decoration-color: #008080; font-weight: bold\">100</span>, Profit-based Loss: <span style=\"color: #008080; text-decoration-color: #008080; font-weight: bold\">-0.000045</span>\n",
       "</pre>\n"
      ],
      "text/plain": [
       "Epoch \u001b[1;36m65\u001b[0m/\u001b[1;36m100\u001b[0m, Profit-based Loss: \u001b[1;36m-0.000045\u001b[0m\n"
      ]
     },
     "metadata": {},
     "output_type": "display_data"
    },
    {
     "data": {
      "text/html": [
       "<pre style=\"white-space:pre;overflow-x:auto;line-height:normal;font-family:Menlo,'DejaVu Sans Mono',consolas,'Courier New',monospace\">Epoch <span style=\"color: #008080; text-decoration-color: #008080; font-weight: bold\">66</span>/<span style=\"color: #008080; text-decoration-color: #008080; font-weight: bold\">100</span>, Profit-based Loss: <span style=\"color: #008080; text-decoration-color: #008080; font-weight: bold\">-0.000045</span>\n",
       "</pre>\n"
      ],
      "text/plain": [
       "Epoch \u001b[1;36m66\u001b[0m/\u001b[1;36m100\u001b[0m, Profit-based Loss: \u001b[1;36m-0.000045\u001b[0m\n"
      ]
     },
     "metadata": {},
     "output_type": "display_data"
    },
    {
     "data": {
      "text/html": [
       "<pre style=\"white-space:pre;overflow-x:auto;line-height:normal;font-family:Menlo,'DejaVu Sans Mono',consolas,'Courier New',monospace\">Epoch <span style=\"color: #008080; text-decoration-color: #008080; font-weight: bold\">67</span>/<span style=\"color: #008080; text-decoration-color: #008080; font-weight: bold\">100</span>, Profit-based Loss: <span style=\"color: #008080; text-decoration-color: #008080; font-weight: bold\">-0.000042</span>\n",
       "</pre>\n"
      ],
      "text/plain": [
       "Epoch \u001b[1;36m67\u001b[0m/\u001b[1;36m100\u001b[0m, Profit-based Loss: \u001b[1;36m-0.000042\u001b[0m\n"
      ]
     },
     "metadata": {},
     "output_type": "display_data"
    },
    {
     "data": {
      "text/html": [
       "<pre style=\"white-space:pre;overflow-x:auto;line-height:normal;font-family:Menlo,'DejaVu Sans Mono',consolas,'Courier New',monospace\">Epoch <span style=\"color: #008080; text-decoration-color: #008080; font-weight: bold\">68</span>/<span style=\"color: #008080; text-decoration-color: #008080; font-weight: bold\">100</span>, Profit-based Loss: <span style=\"color: #008080; text-decoration-color: #008080; font-weight: bold\">-0.000040</span>\n",
       "</pre>\n"
      ],
      "text/plain": [
       "Epoch \u001b[1;36m68\u001b[0m/\u001b[1;36m100\u001b[0m, Profit-based Loss: \u001b[1;36m-0.000040\u001b[0m\n"
      ]
     },
     "metadata": {},
     "output_type": "display_data"
    },
    {
     "data": {
      "text/html": [
       "<pre style=\"white-space:pre;overflow-x:auto;line-height:normal;font-family:Menlo,'DejaVu Sans Mono',consolas,'Courier New',monospace\">Epoch <span style=\"color: #008080; text-decoration-color: #008080; font-weight: bold\">69</span>/<span style=\"color: #008080; text-decoration-color: #008080; font-weight: bold\">100</span>, Profit-based Loss: <span style=\"color: #008080; text-decoration-color: #008080; font-weight: bold\">-0.000040</span>\n",
       "</pre>\n"
      ],
      "text/plain": [
       "Epoch \u001b[1;36m69\u001b[0m/\u001b[1;36m100\u001b[0m, Profit-based Loss: \u001b[1;36m-0.000040\u001b[0m\n"
      ]
     },
     "metadata": {},
     "output_type": "display_data"
    },
    {
     "data": {
      "text/html": [
       "<pre style=\"white-space:pre;overflow-x:auto;line-height:normal;font-family:Menlo,'DejaVu Sans Mono',consolas,'Courier New',monospace\">Epoch <span style=\"color: #008080; text-decoration-color: #008080; font-weight: bold\">70</span>/<span style=\"color: #008080; text-decoration-color: #008080; font-weight: bold\">100</span>, Profit-based Loss: <span style=\"color: #008080; text-decoration-color: #008080; font-weight: bold\">-0.000043</span>\n",
       "</pre>\n"
      ],
      "text/plain": [
       "Epoch \u001b[1;36m70\u001b[0m/\u001b[1;36m100\u001b[0m, Profit-based Loss: \u001b[1;36m-0.000043\u001b[0m\n"
      ]
     },
     "metadata": {},
     "output_type": "display_data"
    },
    {
     "data": {
      "text/html": [
       "<pre style=\"white-space:pre;overflow-x:auto;line-height:normal;font-family:Menlo,'DejaVu Sans Mono',consolas,'Courier New',monospace\">Epoch <span style=\"color: #008080; text-decoration-color: #008080; font-weight: bold\">71</span>/<span style=\"color: #008080; text-decoration-color: #008080; font-weight: bold\">100</span>, Profit-based Loss: <span style=\"color: #008080; text-decoration-color: #008080; font-weight: bold\">-0.000039</span>\n",
       "</pre>\n"
      ],
      "text/plain": [
       "Epoch \u001b[1;36m71\u001b[0m/\u001b[1;36m100\u001b[0m, Profit-based Loss: \u001b[1;36m-0.000039\u001b[0m\n"
      ]
     },
     "metadata": {},
     "output_type": "display_data"
    },
    {
     "data": {
      "text/html": [
       "<pre style=\"white-space:pre;overflow-x:auto;line-height:normal;font-family:Menlo,'DejaVu Sans Mono',consolas,'Courier New',monospace\">Epoch <span style=\"color: #008080; text-decoration-color: #008080; font-weight: bold\">72</span>/<span style=\"color: #008080; text-decoration-color: #008080; font-weight: bold\">100</span>, Profit-based Loss: <span style=\"color: #008080; text-decoration-color: #008080; font-weight: bold\">-0.000040</span>\n",
       "</pre>\n"
      ],
      "text/plain": [
       "Epoch \u001b[1;36m72\u001b[0m/\u001b[1;36m100\u001b[0m, Profit-based Loss: \u001b[1;36m-0.000040\u001b[0m\n"
      ]
     },
     "metadata": {},
     "output_type": "display_data"
    },
    {
     "data": {
      "text/html": [
       "<pre style=\"white-space:pre;overflow-x:auto;line-height:normal;font-family:Menlo,'DejaVu Sans Mono',consolas,'Courier New',monospace\">Epoch <span style=\"color: #008080; text-decoration-color: #008080; font-weight: bold\">73</span>/<span style=\"color: #008080; text-decoration-color: #008080; font-weight: bold\">100</span>, Profit-based Loss: <span style=\"color: #008080; text-decoration-color: #008080; font-weight: bold\">-0.000037</span>\n",
       "</pre>\n"
      ],
      "text/plain": [
       "Epoch \u001b[1;36m73\u001b[0m/\u001b[1;36m100\u001b[0m, Profit-based Loss: \u001b[1;36m-0.000037\u001b[0m\n"
      ]
     },
     "metadata": {},
     "output_type": "display_data"
    },
    {
     "data": {
      "text/html": [
       "<pre style=\"white-space:pre;overflow-x:auto;line-height:normal;font-family:Menlo,'DejaVu Sans Mono',consolas,'Courier New',monospace\">Epoch <span style=\"color: #008080; text-decoration-color: #008080; font-weight: bold\">74</span>/<span style=\"color: #008080; text-decoration-color: #008080; font-weight: bold\">100</span>, Profit-based Loss: <span style=\"color: #008080; text-decoration-color: #008080; font-weight: bold\">-0.000039</span>\n",
       "</pre>\n"
      ],
      "text/plain": [
       "Epoch \u001b[1;36m74\u001b[0m/\u001b[1;36m100\u001b[0m, Profit-based Loss: \u001b[1;36m-0.000039\u001b[0m\n"
      ]
     },
     "metadata": {},
     "output_type": "display_data"
    },
    {
     "data": {
      "text/html": [
       "<pre style=\"white-space:pre;overflow-x:auto;line-height:normal;font-family:Menlo,'DejaVu Sans Mono',consolas,'Courier New',monospace\">Epoch <span style=\"color: #008080; text-decoration-color: #008080; font-weight: bold\">75</span>/<span style=\"color: #008080; text-decoration-color: #008080; font-weight: bold\">100</span>, Profit-based Loss: <span style=\"color: #008080; text-decoration-color: #008080; font-weight: bold\">-0.000039</span>\n",
       "</pre>\n"
      ],
      "text/plain": [
       "Epoch \u001b[1;36m75\u001b[0m/\u001b[1;36m100\u001b[0m, Profit-based Loss: \u001b[1;36m-0.000039\u001b[0m\n"
      ]
     },
     "metadata": {},
     "output_type": "display_data"
    },
    {
     "data": {
      "text/html": [
       "<pre style=\"white-space:pre;overflow-x:auto;line-height:normal;font-family:Menlo,'DejaVu Sans Mono',consolas,'Courier New',monospace\">Epoch <span style=\"color: #008080; text-decoration-color: #008080; font-weight: bold\">76</span>/<span style=\"color: #008080; text-decoration-color: #008080; font-weight: bold\">100</span>, Profit-based Loss: <span style=\"color: #008080; text-decoration-color: #008080; font-weight: bold\">-0.000040</span>\n",
       "</pre>\n"
      ],
      "text/plain": [
       "Epoch \u001b[1;36m76\u001b[0m/\u001b[1;36m100\u001b[0m, Profit-based Loss: \u001b[1;36m-0.000040\u001b[0m\n"
      ]
     },
     "metadata": {},
     "output_type": "display_data"
    },
    {
     "data": {
      "text/html": [
       "<pre style=\"white-space:pre;overflow-x:auto;line-height:normal;font-family:Menlo,'DejaVu Sans Mono',consolas,'Courier New',monospace\">Epoch <span style=\"color: #008080; text-decoration-color: #008080; font-weight: bold\">77</span>/<span style=\"color: #008080; text-decoration-color: #008080; font-weight: bold\">100</span>, Profit-based Loss: <span style=\"color: #008080; text-decoration-color: #008080; font-weight: bold\">-0.000037</span>\n",
       "</pre>\n"
      ],
      "text/plain": [
       "Epoch \u001b[1;36m77\u001b[0m/\u001b[1;36m100\u001b[0m, Profit-based Loss: \u001b[1;36m-0.000037\u001b[0m\n"
      ]
     },
     "metadata": {},
     "output_type": "display_data"
    },
    {
     "data": {
      "text/html": [
       "<pre style=\"white-space:pre;overflow-x:auto;line-height:normal;font-family:Menlo,'DejaVu Sans Mono',consolas,'Courier New',monospace\">Epoch <span style=\"color: #008080; text-decoration-color: #008080; font-weight: bold\">78</span>/<span style=\"color: #008080; text-decoration-color: #008080; font-weight: bold\">100</span>, Profit-based Loss: <span style=\"color: #008080; text-decoration-color: #008080; font-weight: bold\">-0.000037</span>\n",
       "</pre>\n"
      ],
      "text/plain": [
       "Epoch \u001b[1;36m78\u001b[0m/\u001b[1;36m100\u001b[0m, Profit-based Loss: \u001b[1;36m-0.000037\u001b[0m\n"
      ]
     },
     "metadata": {},
     "output_type": "display_data"
    },
    {
     "data": {
      "text/html": [
       "<pre style=\"white-space:pre;overflow-x:auto;line-height:normal;font-family:Menlo,'DejaVu Sans Mono',consolas,'Courier New',monospace\">Epoch <span style=\"color: #008080; text-decoration-color: #008080; font-weight: bold\">79</span>/<span style=\"color: #008080; text-decoration-color: #008080; font-weight: bold\">100</span>, Profit-based Loss: <span style=\"color: #008080; text-decoration-color: #008080; font-weight: bold\">-0.000036</span>\n",
       "</pre>\n"
      ],
      "text/plain": [
       "Epoch \u001b[1;36m79\u001b[0m/\u001b[1;36m100\u001b[0m, Profit-based Loss: \u001b[1;36m-0.000036\u001b[0m\n"
      ]
     },
     "metadata": {},
     "output_type": "display_data"
    },
    {
     "data": {
      "text/html": [
       "<pre style=\"white-space:pre;overflow-x:auto;line-height:normal;font-family:Menlo,'DejaVu Sans Mono',consolas,'Courier New',monospace\">Epoch <span style=\"color: #008080; text-decoration-color: #008080; font-weight: bold\">80</span>/<span style=\"color: #008080; text-decoration-color: #008080; font-weight: bold\">100</span>, Profit-based Loss: <span style=\"color: #008080; text-decoration-color: #008080; font-weight: bold\">-0.000036</span>\n",
       "</pre>\n"
      ],
      "text/plain": [
       "Epoch \u001b[1;36m80\u001b[0m/\u001b[1;36m100\u001b[0m, Profit-based Loss: \u001b[1;36m-0.000036\u001b[0m\n"
      ]
     },
     "metadata": {},
     "output_type": "display_data"
    },
    {
     "data": {
      "text/html": [
       "<pre style=\"white-space:pre;overflow-x:auto;line-height:normal;font-family:Menlo,'DejaVu Sans Mono',consolas,'Courier New',monospace\">Epoch <span style=\"color: #008080; text-decoration-color: #008080; font-weight: bold\">81</span>/<span style=\"color: #008080; text-decoration-color: #008080; font-weight: bold\">100</span>, Profit-based Loss: <span style=\"color: #008080; text-decoration-color: #008080; font-weight: bold\">-0.000035</span>\n",
       "</pre>\n"
      ],
      "text/plain": [
       "Epoch \u001b[1;36m81\u001b[0m/\u001b[1;36m100\u001b[0m, Profit-based Loss: \u001b[1;36m-0.000035\u001b[0m\n"
      ]
     },
     "metadata": {},
     "output_type": "display_data"
    },
    {
     "data": {
      "text/html": [
       "<pre style=\"white-space:pre;overflow-x:auto;line-height:normal;font-family:Menlo,'DejaVu Sans Mono',consolas,'Courier New',monospace\">Epoch <span style=\"color: #008080; text-decoration-color: #008080; font-weight: bold\">82</span>/<span style=\"color: #008080; text-decoration-color: #008080; font-weight: bold\">100</span>, Profit-based Loss: <span style=\"color: #008080; text-decoration-color: #008080; font-weight: bold\">-0.000033</span>\n",
       "</pre>\n"
      ],
      "text/plain": [
       "Epoch \u001b[1;36m82\u001b[0m/\u001b[1;36m100\u001b[0m, Profit-based Loss: \u001b[1;36m-0.000033\u001b[0m\n"
      ]
     },
     "metadata": {},
     "output_type": "display_data"
    },
    {
     "data": {
      "text/html": [
       "<pre style=\"white-space:pre;overflow-x:auto;line-height:normal;font-family:Menlo,'DejaVu Sans Mono',consolas,'Courier New',monospace\">Epoch <span style=\"color: #008080; text-decoration-color: #008080; font-weight: bold\">83</span>/<span style=\"color: #008080; text-decoration-color: #008080; font-weight: bold\">100</span>, Profit-based Loss: <span style=\"color: #008080; text-decoration-color: #008080; font-weight: bold\">-0.000033</span>\n",
       "</pre>\n"
      ],
      "text/plain": [
       "Epoch \u001b[1;36m83\u001b[0m/\u001b[1;36m100\u001b[0m, Profit-based Loss: \u001b[1;36m-0.000033\u001b[0m\n"
      ]
     },
     "metadata": {},
     "output_type": "display_data"
    },
    {
     "data": {
      "text/html": [
       "<pre style=\"white-space:pre;overflow-x:auto;line-height:normal;font-family:Menlo,'DejaVu Sans Mono',consolas,'Courier New',monospace\">Epoch <span style=\"color: #008080; text-decoration-color: #008080; font-weight: bold\">84</span>/<span style=\"color: #008080; text-decoration-color: #008080; font-weight: bold\">100</span>, Profit-based Loss: <span style=\"color: #008080; text-decoration-color: #008080; font-weight: bold\">-0.000029</span>\n",
       "</pre>\n"
      ],
      "text/plain": [
       "Epoch \u001b[1;36m84\u001b[0m/\u001b[1;36m100\u001b[0m, Profit-based Loss: \u001b[1;36m-0.000029\u001b[0m\n"
      ]
     },
     "metadata": {},
     "output_type": "display_data"
    },
    {
     "data": {
      "text/html": [
       "<pre style=\"white-space:pre;overflow-x:auto;line-height:normal;font-family:Menlo,'DejaVu Sans Mono',consolas,'Courier New',monospace\">Epoch <span style=\"color: #008080; text-decoration-color: #008080; font-weight: bold\">85</span>/<span style=\"color: #008080; text-decoration-color: #008080; font-weight: bold\">100</span>, Profit-based Loss: <span style=\"color: #008080; text-decoration-color: #008080; font-weight: bold\">-0.000035</span>\n",
       "</pre>\n"
      ],
      "text/plain": [
       "Epoch \u001b[1;36m85\u001b[0m/\u001b[1;36m100\u001b[0m, Profit-based Loss: \u001b[1;36m-0.000035\u001b[0m\n"
      ]
     },
     "metadata": {},
     "output_type": "display_data"
    },
    {
     "data": {
      "text/html": [
       "<pre style=\"white-space:pre;overflow-x:auto;line-height:normal;font-family:Menlo,'DejaVu Sans Mono',consolas,'Courier New',monospace\">Epoch <span style=\"color: #008080; text-decoration-color: #008080; font-weight: bold\">86</span>/<span style=\"color: #008080; text-decoration-color: #008080; font-weight: bold\">100</span>, Profit-based Loss: <span style=\"color: #008080; text-decoration-color: #008080; font-weight: bold\">-0.000032</span>\n",
       "</pre>\n"
      ],
      "text/plain": [
       "Epoch \u001b[1;36m86\u001b[0m/\u001b[1;36m100\u001b[0m, Profit-based Loss: \u001b[1;36m-0.000032\u001b[0m\n"
      ]
     },
     "metadata": {},
     "output_type": "display_data"
    },
    {
     "data": {
      "text/html": [
       "<pre style=\"white-space:pre;overflow-x:auto;line-height:normal;font-family:Menlo,'DejaVu Sans Mono',consolas,'Courier New',monospace\">Epoch <span style=\"color: #008080; text-decoration-color: #008080; font-weight: bold\">87</span>/<span style=\"color: #008080; text-decoration-color: #008080; font-weight: bold\">100</span>, Profit-based Loss: <span style=\"color: #008080; text-decoration-color: #008080; font-weight: bold\">-0.000032</span>\n",
       "</pre>\n"
      ],
      "text/plain": [
       "Epoch \u001b[1;36m87\u001b[0m/\u001b[1;36m100\u001b[0m, Profit-based Loss: \u001b[1;36m-0.000032\u001b[0m\n"
      ]
     },
     "metadata": {},
     "output_type": "display_data"
    },
    {
     "data": {
      "text/html": [
       "<pre style=\"white-space:pre;overflow-x:auto;line-height:normal;font-family:Menlo,'DejaVu Sans Mono',consolas,'Courier New',monospace\">Epoch <span style=\"color: #008080; text-decoration-color: #008080; font-weight: bold\">88</span>/<span style=\"color: #008080; text-decoration-color: #008080; font-weight: bold\">100</span>, Profit-based Loss: <span style=\"color: #008080; text-decoration-color: #008080; font-weight: bold\">-0.000033</span>\n",
       "</pre>\n"
      ],
      "text/plain": [
       "Epoch \u001b[1;36m88\u001b[0m/\u001b[1;36m100\u001b[0m, Profit-based Loss: \u001b[1;36m-0.000033\u001b[0m\n"
      ]
     },
     "metadata": {},
     "output_type": "display_data"
    },
    {
     "data": {
      "text/html": [
       "<pre style=\"white-space:pre;overflow-x:auto;line-height:normal;font-family:Menlo,'DejaVu Sans Mono',consolas,'Courier New',monospace\">Epoch <span style=\"color: #008080; text-decoration-color: #008080; font-weight: bold\">89</span>/<span style=\"color: #008080; text-decoration-color: #008080; font-weight: bold\">100</span>, Profit-based Loss: <span style=\"color: #008080; text-decoration-color: #008080; font-weight: bold\">-0.000030</span>\n",
       "</pre>\n"
      ],
      "text/plain": [
       "Epoch \u001b[1;36m89\u001b[0m/\u001b[1;36m100\u001b[0m, Profit-based Loss: \u001b[1;36m-0.000030\u001b[0m\n"
      ]
     },
     "metadata": {},
     "output_type": "display_data"
    },
    {
     "data": {
      "text/html": [
       "<pre style=\"white-space:pre;overflow-x:auto;line-height:normal;font-family:Menlo,'DejaVu Sans Mono',consolas,'Courier New',monospace\">Epoch <span style=\"color: #008080; text-decoration-color: #008080; font-weight: bold\">90</span>/<span style=\"color: #008080; text-decoration-color: #008080; font-weight: bold\">100</span>, Profit-based Loss: <span style=\"color: #008080; text-decoration-color: #008080; font-weight: bold\">-0.000030</span>\n",
       "</pre>\n"
      ],
      "text/plain": [
       "Epoch \u001b[1;36m90\u001b[0m/\u001b[1;36m100\u001b[0m, Profit-based Loss: \u001b[1;36m-0.000030\u001b[0m\n"
      ]
     },
     "metadata": {},
     "output_type": "display_data"
    },
    {
     "data": {
      "text/html": [
       "<pre style=\"white-space:pre;overflow-x:auto;line-height:normal;font-family:Menlo,'DejaVu Sans Mono',consolas,'Courier New',monospace\">Epoch <span style=\"color: #008080; text-decoration-color: #008080; font-weight: bold\">91</span>/<span style=\"color: #008080; text-decoration-color: #008080; font-weight: bold\">100</span>, Profit-based Loss: <span style=\"color: #008080; text-decoration-color: #008080; font-weight: bold\">-0.000028</span>\n",
       "</pre>\n"
      ],
      "text/plain": [
       "Epoch \u001b[1;36m91\u001b[0m/\u001b[1;36m100\u001b[0m, Profit-based Loss: \u001b[1;36m-0.000028\u001b[0m\n"
      ]
     },
     "metadata": {},
     "output_type": "display_data"
    },
    {
     "data": {
      "text/html": [
       "<pre style=\"white-space:pre;overflow-x:auto;line-height:normal;font-family:Menlo,'DejaVu Sans Mono',consolas,'Courier New',monospace\">Epoch <span style=\"color: #008080; text-decoration-color: #008080; font-weight: bold\">92</span>/<span style=\"color: #008080; text-decoration-color: #008080; font-weight: bold\">100</span>, Profit-based Loss: <span style=\"color: #008080; text-decoration-color: #008080; font-weight: bold\">-0.000028</span>\n",
       "</pre>\n"
      ],
      "text/plain": [
       "Epoch \u001b[1;36m92\u001b[0m/\u001b[1;36m100\u001b[0m, Profit-based Loss: \u001b[1;36m-0.000028\u001b[0m\n"
      ]
     },
     "metadata": {},
     "output_type": "display_data"
    },
    {
     "data": {
      "text/html": [
       "<pre style=\"white-space:pre;overflow-x:auto;line-height:normal;font-family:Menlo,'DejaVu Sans Mono',consolas,'Courier New',monospace\">Epoch <span style=\"color: #008080; text-decoration-color: #008080; font-weight: bold\">93</span>/<span style=\"color: #008080; text-decoration-color: #008080; font-weight: bold\">100</span>, Profit-based Loss: <span style=\"color: #008080; text-decoration-color: #008080; font-weight: bold\">-0.000029</span>\n",
       "</pre>\n"
      ],
      "text/plain": [
       "Epoch \u001b[1;36m93\u001b[0m/\u001b[1;36m100\u001b[0m, Profit-based Loss: \u001b[1;36m-0.000029\u001b[0m\n"
      ]
     },
     "metadata": {},
     "output_type": "display_data"
    },
    {
     "data": {
      "text/html": [
       "<pre style=\"white-space:pre;overflow-x:auto;line-height:normal;font-family:Menlo,'DejaVu Sans Mono',consolas,'Courier New',monospace\">Epoch <span style=\"color: #008080; text-decoration-color: #008080; font-weight: bold\">94</span>/<span style=\"color: #008080; text-decoration-color: #008080; font-weight: bold\">100</span>, Profit-based Loss: <span style=\"color: #008080; text-decoration-color: #008080; font-weight: bold\">-0.000028</span>\n",
       "</pre>\n"
      ],
      "text/plain": [
       "Epoch \u001b[1;36m94\u001b[0m/\u001b[1;36m100\u001b[0m, Profit-based Loss: \u001b[1;36m-0.000028\u001b[0m\n"
      ]
     },
     "metadata": {},
     "output_type": "display_data"
    },
    {
     "data": {
      "text/html": [
       "<pre style=\"white-space:pre;overflow-x:auto;line-height:normal;font-family:Menlo,'DejaVu Sans Mono',consolas,'Courier New',monospace\">Epoch <span style=\"color: #008080; text-decoration-color: #008080; font-weight: bold\">95</span>/<span style=\"color: #008080; text-decoration-color: #008080; font-weight: bold\">100</span>, Profit-based Loss: <span style=\"color: #008080; text-decoration-color: #008080; font-weight: bold\">-0.000026</span>\n",
       "</pre>\n"
      ],
      "text/plain": [
       "Epoch \u001b[1;36m95\u001b[0m/\u001b[1;36m100\u001b[0m, Profit-based Loss: \u001b[1;36m-0.000026\u001b[0m\n"
      ]
     },
     "metadata": {},
     "output_type": "display_data"
    },
    {
     "data": {
      "text/html": [
       "<pre style=\"white-space:pre;overflow-x:auto;line-height:normal;font-family:Menlo,'DejaVu Sans Mono',consolas,'Courier New',monospace\">Epoch <span style=\"color: #008080; text-decoration-color: #008080; font-weight: bold\">96</span>/<span style=\"color: #008080; text-decoration-color: #008080; font-weight: bold\">100</span>, Profit-based Loss: <span style=\"color: #008080; text-decoration-color: #008080; font-weight: bold\">-0.000028</span>\n",
       "</pre>\n"
      ],
      "text/plain": [
       "Epoch \u001b[1;36m96\u001b[0m/\u001b[1;36m100\u001b[0m, Profit-based Loss: \u001b[1;36m-0.000028\u001b[0m\n"
      ]
     },
     "metadata": {},
     "output_type": "display_data"
    },
    {
     "data": {
      "text/html": [
       "<pre style=\"white-space:pre;overflow-x:auto;line-height:normal;font-family:Menlo,'DejaVu Sans Mono',consolas,'Courier New',monospace\">Epoch <span style=\"color: #008080; text-decoration-color: #008080; font-weight: bold\">97</span>/<span style=\"color: #008080; text-decoration-color: #008080; font-weight: bold\">100</span>, Profit-based Loss: <span style=\"color: #008080; text-decoration-color: #008080; font-weight: bold\">-0.000028</span>\n",
       "</pre>\n"
      ],
      "text/plain": [
       "Epoch \u001b[1;36m97\u001b[0m/\u001b[1;36m100\u001b[0m, Profit-based Loss: \u001b[1;36m-0.000028\u001b[0m\n"
      ]
     },
     "metadata": {},
     "output_type": "display_data"
    },
    {
     "data": {
      "text/html": [
       "<pre style=\"white-space:pre;overflow-x:auto;line-height:normal;font-family:Menlo,'DejaVu Sans Mono',consolas,'Courier New',monospace\">Epoch <span style=\"color: #008080; text-decoration-color: #008080; font-weight: bold\">98</span>/<span style=\"color: #008080; text-decoration-color: #008080; font-weight: bold\">100</span>, Profit-based Loss: <span style=\"color: #008080; text-decoration-color: #008080; font-weight: bold\">-0.000026</span>\n",
       "</pre>\n"
      ],
      "text/plain": [
       "Epoch \u001b[1;36m98\u001b[0m/\u001b[1;36m100\u001b[0m, Profit-based Loss: \u001b[1;36m-0.000026\u001b[0m\n"
      ]
     },
     "metadata": {},
     "output_type": "display_data"
    },
    {
     "data": {
      "text/html": [
       "<pre style=\"white-space:pre;overflow-x:auto;line-height:normal;font-family:Menlo,'DejaVu Sans Mono',consolas,'Courier New',monospace\">Epoch <span style=\"color: #008080; text-decoration-color: #008080; font-weight: bold\">99</span>/<span style=\"color: #008080; text-decoration-color: #008080; font-weight: bold\">100</span>, Profit-based Loss: <span style=\"color: #008080; text-decoration-color: #008080; font-weight: bold\">-0.000025</span>\n",
       "</pre>\n"
      ],
      "text/plain": [
       "Epoch \u001b[1;36m99\u001b[0m/\u001b[1;36m100\u001b[0m, Profit-based Loss: \u001b[1;36m-0.000025\u001b[0m\n"
      ]
     },
     "metadata": {},
     "output_type": "display_data"
    },
    {
     "data": {
      "text/html": [
       "<pre style=\"white-space:pre;overflow-x:auto;line-height:normal;font-family:Menlo,'DejaVu Sans Mono',consolas,'Courier New',monospace\">Epoch <span style=\"color: #008080; text-decoration-color: #008080; font-weight: bold\">100</span>/<span style=\"color: #008080; text-decoration-color: #008080; font-weight: bold\">100</span>, Profit-based Loss: <span style=\"color: #008080; text-decoration-color: #008080; font-weight: bold\">-0.000025</span>\n",
       "</pre>\n"
      ],
      "text/plain": [
       "Epoch \u001b[1;36m100\u001b[0m/\u001b[1;36m100\u001b[0m, Profit-based Loss: \u001b[1;36m-0.000025\u001b[0m\n"
      ]
     },
     "metadata": {},
     "output_type": "display_data"
    }
   ],
   "source": [
    "\n",
    "# ---- TRAINING LOOP ----\n",
    "def train_model(model, X_train, y_train, epochs, batch_size):\n",
    "    model.train()\n",
    "    for epoch in range(epochs):\n",
    "        total_loss = 0\n",
    "        permutation = np.random.permutation(len(X_train))\n",
    "        for i in range(0, len(X_train), batch_size):\n",
    "            indices = permutation[i:i+batch_size]\n",
    "            batch_x = torch.tensor(X_train[indices], dtype=torch.float32).to(device)\n",
    "            batch_y = torch.tensor(y_train[indices], dtype=torch.long).to(device)\n",
    "            optimizer.zero_grad()\n",
    "            outputs = model(batch_x)\n",
    "            loss = loss_fn(outputs, batch_y)\n",
    "            loss.backward()\n",
    "            optimizer.step()\n",
    "            total_loss += loss.item()\n",
    "        avg_loss = total_loss / (len(X_train) // batch_size)\n",
    "        rprint(f\"Epoch {epoch+1}/{epochs}, Loss: {avg_loss:.4f}\")\n",
    "\n",
    "# profit-based loss\n",
    "def train_model_profit(model, X_train, y_train, epochs, batch_size):\n",
    "    model.train()\n",
    "    n = len(X_train)\n",
    "    for epoch in range(epochs):\n",
    "        total_loss = 0\n",
    "        batch_count = 0\n",
    "        permutation = np.random.permutation(n-1)  # n-1 to avoid index error with next day's price\n",
    "        for i in range(0, n-batch_size, batch_size):  # ensure we have enough samples for next day's price\n",
    "            batch_indices = permutation[i:i+batch_size]\n",
    "            batch_x = torch.tensor(X_train[batch_indices], dtype=torch.float32).to(device)\n",
    "            batch_y = torch.tensor(y_train[batch_indices], dtype=torch.long).to(device)\n",
    "            batch_indices_tensor = torch.as_tensor(batch_indices, dtype=torch.long, device=device)\n",
    "            \n",
    "            optimizer.zero_grad()\n",
    "            outputs = model(batch_x)\n",
    "            # Use the custom profit-based loss function\n",
    "            loss = profit_loss_fn(outputs, batch_y, batch_indices_tensor)\n",
    "            loss.backward()\n",
    "            optimizer.step()\n",
    "            \n",
    "            total_loss += loss.item()\n",
    "            batch_count += 1\n",
    "            \n",
    "        avg_loss = total_loss / batch_count\n",
    "        rprint(f\"Epoch {epoch+1}/{epochs}, Profit-based Loss: {avg_loss:.6f}\")\n",
    "\n",
    "train_model_profit(model, X_train, y_train, EPOCHS, BATCH_SIZE)\n",
    "\n",
    "# Uncomment to use standard cross-entropy training instead\n",
    "# train_model(model, X_train, y_train, EPOCHS, BATCH_SIZE)\n"
   ]
  },
  {
   "cell_type": "code",
   "execution_count": 32,
   "id": "06da0569",
   "metadata": {},
   "outputs": [
    {
     "data": {
      "text/html": [
       "<pre style=\"white-space:pre;overflow-x:auto;line-height:normal;font-family:Menlo,'DejaVu Sans Mono',consolas,'Courier New',monospace\">Test Accuracy: <span style=\"color: #008080; text-decoration-color: #008080; font-weight: bold\">0.46438746438746437</span>\n",
       "</pre>\n"
      ],
      "text/plain": [
       "Test Accuracy: \u001b[1;36m0.46438746438746437\u001b[0m\n"
      ]
     },
     "metadata": {},
     "output_type": "display_data"
    },
    {
     "name": "stderr",
     "output_type": "stream",
     "text": [
      "/home/matthew-jacobsen/.cache/pypoetry/virtualenvs/ramblingrealms-trading-RC3nh33Z-py3.12/lib/python3.12/site-packages/sklearn/metrics/_classification.py:1565: UndefinedMetricWarning: Precision is ill-defined and being set to 0.0 in labels with no predicted samples. Use `zero_division` parameter to control this behavior.\n",
      "  _warn_prf(average, modifier, f\"{metric.capitalize()} is\", len(result))\n",
      "/home/matthew-jacobsen/.cache/pypoetry/virtualenvs/ramblingrealms-trading-RC3nh33Z-py3.12/lib/python3.12/site-packages/sklearn/metrics/_classification.py:1565: UndefinedMetricWarning: Precision is ill-defined and being set to 0.0 in labels with no predicted samples. Use `zero_division` parameter to control this behavior.\n",
      "  _warn_prf(average, modifier, f\"{metric.capitalize()} is\", len(result))\n",
      "/home/matthew-jacobsen/.cache/pypoetry/virtualenvs/ramblingrealms-trading-RC3nh33Z-py3.12/lib/python3.12/site-packages/sklearn/metrics/_classification.py:1565: UndefinedMetricWarning: Precision is ill-defined and being set to 0.0 in labels with no predicted samples. Use `zero_division` parameter to control this behavior.\n",
      "  _warn_prf(average, modifier, f\"{metric.capitalize()} is\", len(result))\n"
     ]
    },
    {
     "data": {
      "text/html": [
       "<pre style=\"white-space:pre;overflow-x:auto;line-height:normal;font-family:Menlo,'DejaVu Sans Mono',consolas,'Courier New',monospace\">              precision    recall  f1-score   support\n",
       "\n",
       "           <span style=\"color: #008080; text-decoration-color: #008080; font-weight: bold\">0</span>       <span style=\"color: #008080; text-decoration-color: #008080; font-weight: bold\">0.56</span>      <span style=\"color: #008080; text-decoration-color: #008080; font-weight: bold\">0.09</span>      <span style=\"color: #008080; text-decoration-color: #008080; font-weight: bold\">0.16</span>       <span style=\"color: #008080; text-decoration-color: #008080; font-weight: bold\">158</span>\n",
       "           <span style=\"color: #008080; text-decoration-color: #008080; font-weight: bold\">1</span>       <span style=\"color: #008080; text-decoration-color: #008080; font-weight: bold\">0.00</span>      <span style=\"color: #008080; text-decoration-color: #008080; font-weight: bold\">0.00</span>      <span style=\"color: #008080; text-decoration-color: #008080; font-weight: bold\">0.00</span>        <span style=\"color: #008080; text-decoration-color: #008080; font-weight: bold\">36</span>\n",
       "           <span style=\"color: #008080; text-decoration-color: #008080; font-weight: bold\">2</span>       <span style=\"color: #008080; text-decoration-color: #008080; font-weight: bold\">0.46</span>      <span style=\"color: #008080; text-decoration-color: #008080; font-weight: bold\">0.94</span>      <span style=\"color: #008080; text-decoration-color: #008080; font-weight: bold\">0.62</span>       <span style=\"color: #008080; text-decoration-color: #008080; font-weight: bold\">157</span>\n",
       "\n",
       "    accuracy                           <span style=\"color: #008080; text-decoration-color: #008080; font-weight: bold\">0.46</span>       <span style=\"color: #008080; text-decoration-color: #008080; font-weight: bold\">351</span>\n",
       "   macro avg       <span style=\"color: #008080; text-decoration-color: #008080; font-weight: bold\">0.34</span>      <span style=\"color: #008080; text-decoration-color: #008080; font-weight: bold\">0.35</span>      <span style=\"color: #008080; text-decoration-color: #008080; font-weight: bold\">0.26</span>       <span style=\"color: #008080; text-decoration-color: #008080; font-weight: bold\">351</span>\n",
       "weighted avg       <span style=\"color: #008080; text-decoration-color: #008080; font-weight: bold\">0.45</span>      <span style=\"color: #008080; text-decoration-color: #008080; font-weight: bold\">0.46</span>      <span style=\"color: #008080; text-decoration-color: #008080; font-weight: bold\">0.35</span>       <span style=\"color: #008080; text-decoration-color: #008080; font-weight: bold\">351</span>\n",
       "\n",
       "</pre>\n"
      ],
      "text/plain": [
       "              precision    recall  f1-score   support\n",
       "\n",
       "           \u001b[1;36m0\u001b[0m       \u001b[1;36m0.56\u001b[0m      \u001b[1;36m0.09\u001b[0m      \u001b[1;36m0.16\u001b[0m       \u001b[1;36m158\u001b[0m\n",
       "           \u001b[1;36m1\u001b[0m       \u001b[1;36m0.00\u001b[0m      \u001b[1;36m0.00\u001b[0m      \u001b[1;36m0.00\u001b[0m        \u001b[1;36m36\u001b[0m\n",
       "           \u001b[1;36m2\u001b[0m       \u001b[1;36m0.46\u001b[0m      \u001b[1;36m0.94\u001b[0m      \u001b[1;36m0.62\u001b[0m       \u001b[1;36m157\u001b[0m\n",
       "\n",
       "    accuracy                           \u001b[1;36m0.46\u001b[0m       \u001b[1;36m351\u001b[0m\n",
       "   macro avg       \u001b[1;36m0.34\u001b[0m      \u001b[1;36m0.35\u001b[0m      \u001b[1;36m0.26\u001b[0m       \u001b[1;36m351\u001b[0m\n",
       "weighted avg       \u001b[1;36m0.45\u001b[0m      \u001b[1;36m0.46\u001b[0m      \u001b[1;36m0.35\u001b[0m       \u001b[1;36m351\u001b[0m\n",
       "\n"
      ]
     },
     "metadata": {},
     "output_type": "display_data"
    }
   ],
   "source": [
    "\n",
    "# ---- TESTING ----\n",
    "model.eval()\n",
    "with torch.no_grad():\n",
    "    X_test_tensor = torch.tensor(X_test, dtype=torch.float32).to(device)\n",
    "    outputs = model(X_test_tensor)\n",
    "    preds = torch.argmax(outputs, dim=1).cpu().numpy()\n",
    "    acc = accuracy_score(y_test, preds)\n",
    "    rprint(\"Test Accuracy:\", acc)\n",
    "    rprint(classification_report(y_test, preds))\n"
   ]
  },
  {
   "cell_type": "code",
   "execution_count": 33,
   "id": "a2ce1d58",
   "metadata": {},
   "outputs": [],
   "source": [
    "\n",
    "# ---- PARAMETER SAVING ----\n",
    "if SAVE_PARAMS:\n",
    "    params = {\n",
    "        \"tickers\": TICKERS,\n",
    "        \"start_date\": START_DATE,\n",
    "        \"end_date\": END_DATE,\n",
    "        \"features\": features,\n",
    "        \"epochs\": EPOCHS,\n",
    "        \"batch_size\": BATCH_SIZE,\n",
    "        \"overfitting_param\": OVERFITTING_PARAM,\n",
    "        \"test_accuracy\": acc\n",
    "    }\n",
    "    with open(PARAMS_FILE, \"w\") as f:\n",
    "        json.dump(params, f, indent=2)\n",
    "    rprint(f\"Parameters saved to {PARAMS_FILE}\")\n",
    "\n",
    "# ---- EXTENSIONS ----\n",
    "# - To use all tickers, set TICKERS to a list of all tickers.\n",
    "# - Add more features/signals in add_features().\n",
    "# - Tune EPOCHS, OVERFITTING_PARAM, etc.\n",
    "# - Add profit simulation by trading on model predictions."
   ]
  }
 ],
 "metadata": {
  "kernelspec": {
   "display_name": "ramblingrealms-trading-RC3nh33Z-py3.12",
   "language": "python",
   "name": "python3"
  },
  "language_info": {
   "codemirror_mode": {
    "name": "ipython",
    "version": 3
   },
   "file_extension": ".py",
   "mimetype": "text/x-python",
   "name": "python",
   "nbconvert_exporter": "python",
   "pygments_lexer": "ipython3",
   "version": "3.12.3"
  }
 },
 "nbformat": 4,
 "nbformat_minor": 5
}

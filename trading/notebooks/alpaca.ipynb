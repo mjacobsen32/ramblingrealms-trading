{
 "cells": [
  {
   "cell_type": "code",
   "execution_count": null,
   "id": "a1b488c2",
   "metadata": {},
   "outputs": [],
   "source": [
    "from trading.src.user_cache.user_cache import UserCache as user_cache\n",
    "from rich import print as rprint\n",
    "user = user_cache.load()"
   ]
  },
  {
   "cell_type": "code",
   "execution_count": null,
   "id": "6dede238",
   "metadata": {},
   "outputs": [],
   "source": [
    "from alpaca.data import CryptoHistoricalDataClient, StockHistoricalDataClient, OptionHistoricalDataClient\n",
    "from alpaca.data.historical import StockHistoricalDataClient\n",
    "from alpaca.data.requests import StockLatestQuoteRequest\n",
    "# no keys required.\n",
    "crypto_client = CryptoHistoricalDataClient()\n",
    "\n",
    "# keys required\n",
    "stock_client = StockHistoricalDataClient(user.alpaca_api_key.get_secret_value(),  user.alpaca_api_secret.get_secret_value())\n",
    "option_client = OptionHistoricalDataClient(user.alpaca_api_key.get_secret_value(),  user.alpaca_api_secret.get_secret_value())"
   ]
  },
  {
   "cell_type": "code",
   "execution_count": null,
   "id": "5e7625fd",
   "metadata": {},
   "outputs": [],
   "source": [
    "# multi symbol request - single symbol is similar\n",
    "multisymbol_request_params = StockLatestQuoteRequest(symbol_or_symbols=[\"SPY\", \"GLD\", \"TLT\"])\n",
    "\n",
    "latest_multisymbol_quotes = stock_client.get_stock_latest_quote(multisymbol_request_params)\n",
    "\n",
    "gld_latest_ask_price = latest_multisymbol_quotes[\"GLD\"].ask_price"
   ]
  },
  {
   "cell_type": "code",
   "execution_count": null,
   "id": "adfea62b",
   "metadata": {},
   "outputs": [],
   "source": [
    "rprint(latest_multisymbol_quotes)\n",
    "rprint(f\"Latest GLD ask price: {gld_latest_ask_price}\")"
   ]
  },
  {
   "cell_type": "code",
   "execution_count": null,
   "id": "35f16730",
   "metadata": {},
   "outputs": [],
   "source": [
    "from alpaca.trading.client import TradingClient\n",
    "\n",
    "# paper=True enables paper trading\n",
    "trading_client = TradingClient(user.alpaca_api_key.get_secret_value(), user.alpaca_api_secret.get_secret_value(), paper=True)\n",
    "account = trading_client.get_account()\n",
    "rprint(account)"
   ]
  },
  {
   "cell_type": "code",
   "execution_count": null,
   "id": "727f57b5",
   "metadata": {},
   "outputs": [],
   "source": [
    "from alpaca.trading.requests import MarketOrderRequest\n",
    "from alpaca.trading.enums import OrderSide, TimeInForce\n",
    "\n",
    "# preparing orders\n",
    "market_order_data = MarketOrderRequest(\n",
    "                    symbol=\"SPY\",\n",
    "                    qty=0.023,\n",
    "                    side=OrderSide.BUY,\n",
    "                    time_in_force=TimeInForce.DAY\n",
    "                    )\n",
    "\n",
    "# Market order\n",
    "market_order = trading_client.submit_order(\n",
    "                order_data=market_order_data\n",
    "               )\n",
    "\n",
    "rprint(f\"Market order submitted: {market_order}\")"
   ]
  },
  {
   "cell_type": "code",
   "execution_count": null,
   "id": "dc9dcf72",
   "metadata": {},
   "outputs": [],
   "source": [
    "rprint(trading_client.get_all_positions())"
   ]
  }
 ],
 "metadata": {
  "kernelspec": {
   "display_name": "ramblingrealms-trading-RC3nh33Z-py3.12",
   "language": "python",
   "name": "python3"
  },
  "language_info": {
   "codemirror_mode": {
    "name": "ipython",
    "version": 3
   },
   "file_extension": ".py",
   "mimetype": "text/x-python",
   "name": "python",
   "nbconvert_exporter": "python",
   "pygments_lexer": "ipython3",
   "version": "3.12.3"
  }
 },
 "nbformat": 4,
 "nbformat_minor": 5
}

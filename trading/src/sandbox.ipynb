{
 "cells": [
  {
   "cell_type": "code",
<<<<<<< HEAD
   "execution_count": 35,
=======
   "execution_count": 42,
>>>>>>> 7305e14bf5e52a6d1ddd4e982192a9fadbd0a7fc
   "id": "7cbf8d29",
   "metadata": {},
   "outputs": [],
   "source": [
    "import trading.cli.etrade\n",
    "from trading.src.user_cache.user_cache import UserCache as user_cache\n",
    "import pyetrade as etrade\n",
    "from rich import print as rprint"
   ]
  },
  {
   "cell_type": "code",
<<<<<<< HEAD
   "execution_count": 36,
=======
   "execution_count": null,
>>>>>>> 7305e14bf5e52a6d1ddd4e982192a9fadbd0a7fc
   "id": "1d533f23",
   "metadata": {},
   "outputs": [],
   "source": [
<<<<<<< HEAD
    "# import logging\n",
    "# import http.client as http_client\n",
    "\n",
    "# # Enable HTTP debugging\n",
    "# http_client.HTTPConnection.debuglevel = 1\n",
    "\n",
    "# # Configure logging\n",
    "# logging.basicConfig()\n",
    "# logging.getLogger().setLevel(logging.DEBUG)\n",
    "# logging.getLogger(\"urllib3\").setLevel(logging.DEBUG)\n",
    "# logging.getLogger(\"pyetrade\").setLevel(logging.DEBUG)"
=======
    "import logging\n",
    "import http.client as http_client\n",
    "\n",
    "# Enable HTTP debugging\n",
    "http_client.HTTPConnection.debuglevel = 1\n",
    "\n",
    "# Configure logging\n",
    "logging.basicConfig()\n",
    "logging.getLogger().setLevel(logging.DEBUG)\n",
    "logging.getLogger(\"urllib3\").setLevel(logging.DEBUG)\n",
    "logging.getLogger(\"pyetrade\").setLevel(logging.DEBUG)"
>>>>>>> 7305e14bf5e52a6d1ddd4e982192a9fadbd0a7fc
   ]
  },
  {
   "cell_type": "code",
<<<<<<< HEAD
   "execution_count": 37,
=======
   "execution_count": 43,
>>>>>>> 7305e14bf5e52a6d1ddd4e982192a9fadbd0a7fc
   "id": "8547742d",
   "metadata": {},
   "outputs": [],
   "source": [
    "etrade_secrets = user_cache.load().get_active_secrets()\n",
    "orders = etrade.ETradeOrder(\n",
    "    etrade_secrets.api_key.get_secret_value(), \n",
    "    etrade_secrets.api_secret.get_secret_value(), \n",
    "    etrade_secrets.oauth_token.get_secret_value(), \n",
    "    etrade_secrets.oauth_token_secret.get_secret_value()\n",
    ")\n"
   ]
  },
  {
   "cell_type": "code",
<<<<<<< HEAD
   "execution_count": 38,
=======
   "execution_count": 44,
>>>>>>> 7305e14bf5e52a6d1ddd4e982192a9fadbd0a7fc
   "id": "90b046f6",
   "metadata": {},
   "outputs": [],
   "source": [
    "etrade_secrets = user_cache.load().get_active_secrets()\n",
    "etrade_accounts = etrade.ETradeAccounts(\n",
    "    etrade_secrets.api_key.get_secret_value(),\n",
    "    etrade_secrets.api_secret.get_secret_value(),\n",
    "    etrade_secrets.oauth_token.get_secret_value(),\n",
    "    etrade_secrets.oauth_token_secret.get_secret_value()\n",
    ")\n",
    "accounts = etrade_accounts.list_accounts()[\"AccountListResponse\"][\"Accounts\"][\"Account\"]\n",
    "current_account = '6_Dpy0rmuQ9cu9IbTfvF2A'"
   ]
  },
  {
   "cell_type": "code",
<<<<<<< HEAD
   "execution_count": 39,
=======
   "execution_count": 45,
>>>>>>> 7305e14bf5e52a6d1ddd4e982192a9fadbd0a7fc
   "id": "5fc2230b",
   "metadata": {},
   "outputs": [
    {
     "data": {
      "text/html": [
       "<pre style=\"white-space:pre;overflow-x:auto;line-height:normal;font-family:Menlo,'DejaVu Sans Mono',consolas,'Courier New',monospace\"><span style=\"font-weight: bold\">[</span>\n",
       "    <span style=\"font-weight: bold\">{</span>\n",
       "        <span style=\"color: #008000; text-decoration-color: #008000\">'accountId'</span>: <span style=\"color: #008000; text-decoration-color: #008000\">'823145980'</span>,\n",
       "        <span style=\"color: #008000; text-decoration-color: #008000\">'accountIdKey'</span>: <span style=\"color: #008000; text-decoration-color: #008000\">'dBZOKt9xDrtRSAOl4MSiiA'</span>,\n",
       "        <span style=\"color: #008000; text-decoration-color: #008000\">'accountMode'</span>: <span style=\"color: #008000; text-decoration-color: #008000\">'IRA'</span>,\n",
       "        <span style=\"color: #008000; text-decoration-color: #008000\">'accountDesc'</span>: <span style=\"color: #008000; text-decoration-color: #008000\">'Brokerage'</span>,\n",
       "        <span style=\"color: #008000; text-decoration-color: #008000\">'accountName'</span>: <span style=\"color: #008000; text-decoration-color: #008000\">'NickName-1'</span>,\n",
       "        <span style=\"color: #008000; text-decoration-color: #008000\">'accountType'</span>: <span style=\"color: #008000; text-decoration-color: #008000\">'MARGIN'</span>,\n",
       "        <span style=\"color: #008000; text-decoration-color: #008000\">'institutionType'</span>: <span style=\"color: #008000; text-decoration-color: #008000\">'BROKERAGE'</span>,\n",
       "        <span style=\"color: #008000; text-decoration-color: #008000\">'accountStatus'</span>: <span style=\"color: #008000; text-decoration-color: #008000\">'ACTIVE'</span>,\n",
       "        <span style=\"color: #008000; text-decoration-color: #008000\">'closedDate'</span>: <span style=\"color: #008000; text-decoration-color: #008000\">'0'</span>,\n",
       "        <span style=\"color: #008000; text-decoration-color: #008000\">'shareWorksAccount'</span>: <span style=\"color: #008000; text-decoration-color: #008000\">'false'</span>,\n",
       "        <span style=\"color: #008000; text-decoration-color: #008000\">'fcManagedMssbClosedAccount'</span>: <span style=\"color: #008000; text-decoration-color: #008000\">'false'</span>\n",
       "    <span style=\"font-weight: bold\">}</span>,\n",
       "    <span style=\"font-weight: bold\">{</span>\n",
       "        <span style=\"color: #008000; text-decoration-color: #008000\">'accountId'</span>: <span style=\"color: #008000; text-decoration-color: #008000\">'583156360'</span>,\n",
       "        <span style=\"color: #008000; text-decoration-color: #008000\">'accountIdKey'</span>: <span style=\"color: #008000; text-decoration-color: #008000\">'vQMsebA1H5WltUfDkJP48g'</span>,\n",
       "        <span style=\"color: #008000; text-decoration-color: #008000\">'accountMode'</span>: <span style=\"color: #008000; text-decoration-color: #008000\">'CASH'</span>,\n",
       "        <span style=\"color: #008000; text-decoration-color: #008000\">'accountDesc'</span>: <span style=\"color: #008000; text-decoration-color: #008000\">'Complete Savings'</span>,\n",
       "        <span style=\"color: #008000; text-decoration-color: #008000\">'accountName'</span>: <span style=\"color: #008000; text-decoration-color: #008000\">'NickName-2'</span>,\n",
       "        <span style=\"color: #008000; text-decoration-color: #008000\">'accountType'</span>: <span style=\"color: #008000; text-decoration-color: #008000\">'INDIVIDUAL'</span>,\n",
       "        <span style=\"color: #008000; text-decoration-color: #008000\">'institutionType'</span>: <span style=\"color: #008000; text-decoration-color: #008000\">'BROKERAGE'</span>,\n",
       "        <span style=\"color: #008000; text-decoration-color: #008000\">'accountStatus'</span>: <span style=\"color: #008000; text-decoration-color: #008000\">'ACTIVE'</span>,\n",
       "        <span style=\"color: #008000; text-decoration-color: #008000\">'closedDate'</span>: <span style=\"color: #008000; text-decoration-color: #008000\">'0'</span>,\n",
       "        <span style=\"color: #008000; text-decoration-color: #008000\">'shareWorksAccount'</span>: <span style=\"color: #008000; text-decoration-color: #008000\">'false'</span>,\n",
       "        <span style=\"color: #008000; text-decoration-color: #008000\">'fcManagedMssbClosedAccount'</span>: <span style=\"color: #008000; text-decoration-color: #008000\">'false'</span>\n",
       "    <span style=\"font-weight: bold\">}</span>,\n",
       "    <span style=\"font-weight: bold\">{</span>\n",
       "        <span style=\"color: #008000; text-decoration-color: #008000\">'accountId'</span>: <span style=\"color: #008000; text-decoration-color: #008000\">'707004180'</span>,\n",
       "        <span style=\"color: #008000; text-decoration-color: #008000\">'accountIdKey'</span>: <span style=\"color: #008000; text-decoration-color: #008000\">'6_Dpy0rmuQ9cu9IbTfvF2A'</span>,\n",
       "        <span style=\"color: #008000; text-decoration-color: #008000\">'accountMode'</span>: <span style=\"color: #008000; text-decoration-color: #008000\">'CASH'</span>,\n",
       "        <span style=\"color: #008000; text-decoration-color: #008000\">'accountDesc'</span>: <span style=\"color: #008000; text-decoration-color: #008000\">'INDIVIDUAL'</span>,\n",
       "        <span style=\"color: #008000; text-decoration-color: #008000\">'accountName'</span>: <span style=\"color: #008000; text-decoration-color: #008000\">'NickName-3'</span>,\n",
       "        <span style=\"color: #008000; text-decoration-color: #008000\">'accountType'</span>: <span style=\"color: #008000; text-decoration-color: #008000\">'INDIVIDUAL'</span>,\n",
       "        <span style=\"color: #008000; text-decoration-color: #008000\">'institutionType'</span>: <span style=\"color: #008000; text-decoration-color: #008000\">'BROKERAGE'</span>,\n",
       "        <span style=\"color: #008000; text-decoration-color: #008000\">'accountStatus'</span>: <span style=\"color: #008000; text-decoration-color: #008000\">'ACTIVE'</span>,\n",
       "        <span style=\"color: #008000; text-decoration-color: #008000\">'closedDate'</span>: <span style=\"color: #008000; text-decoration-color: #008000\">'0'</span>,\n",
       "        <span style=\"color: #008000; text-decoration-color: #008000\">'shareWorksAccount'</span>: <span style=\"color: #008000; text-decoration-color: #008000\">'false'</span>,\n",
       "        <span style=\"color: #008000; text-decoration-color: #008000\">'fcManagedMssbClosedAccount'</span>: <span style=\"color: #008000; text-decoration-color: #008000\">'false'</span>\n",
       "    <span style=\"font-weight: bold\">}</span>,\n",
       "    <span style=\"font-weight: bold\">{</span>\n",
       "        <span style=\"color: #008000; text-decoration-color: #008000\">'accountId'</span>: <span style=\"color: #008000; text-decoration-color: #008000\">'835151430'</span>,\n",
       "        <span style=\"color: #008000; text-decoration-color: #008000\">'accountIdKey'</span>: <span style=\"color: #008000; text-decoration-color: #008000\">'xj1Dc18FTqWPqkEEVUr5rw'</span>,\n",
       "        <span style=\"color: #008000; text-decoration-color: #008000\">'accountMode'</span>: <span style=\"color: #008000; text-decoration-color: #008000\">'CASH'</span>,\n",
       "        <span style=\"color: #008000; text-decoration-color: #008000\">'accountDesc'</span>: <span style=\"color: #008000; text-decoration-color: #008000\">'INDIVIDUAL'</span>,\n",
       "        <span style=\"color: #008000; text-decoration-color: #008000\">'accountName'</span>: <span style=\"color: #800080; text-decoration-color: #800080; font-style: italic\">None</span>,\n",
       "        <span style=\"color: #008000; text-decoration-color: #008000\">'accountType'</span>: <span style=\"color: #008000; text-decoration-color: #008000\">'CASH'</span>,\n",
       "        <span style=\"color: #008000; text-decoration-color: #008000\">'institutionType'</span>: <span style=\"color: #008000; text-decoration-color: #008000\">'BROKERAGE'</span>,\n",
       "        <span style=\"color: #008000; text-decoration-color: #008000\">'accountStatus'</span>: <span style=\"color: #008000; text-decoration-color: #008000\">'CLOSED'</span>,\n",
       "        <span style=\"color: #008000; text-decoration-color: #008000\">'closedDate'</span>: <span style=\"color: #008000; text-decoration-color: #008000\">'1521027780'</span>,\n",
       "        <span style=\"color: #008000; text-decoration-color: #008000\">'shareWorksAccount'</span>: <span style=\"color: #008000; text-decoration-color: #008000\">'false'</span>,\n",
       "        <span style=\"color: #008000; text-decoration-color: #008000\">'fcManagedMssbClosedAccount'</span>: <span style=\"color: #008000; text-decoration-color: #008000\">'false'</span>\n",
       "    <span style=\"font-weight: bold\">}</span>\n",
       "<span style=\"font-weight: bold\">]</span>\n",
       "</pre>\n"
      ],
      "text/plain": [
       "\u001b[1m[\u001b[0m\n",
       "    \u001b[1m{\u001b[0m\n",
       "        \u001b[32m'accountId'\u001b[0m: \u001b[32m'823145980'\u001b[0m,\n",
       "        \u001b[32m'accountIdKey'\u001b[0m: \u001b[32m'dBZOKt9xDrtRSAOl4MSiiA'\u001b[0m,\n",
       "        \u001b[32m'accountMode'\u001b[0m: \u001b[32m'IRA'\u001b[0m,\n",
       "        \u001b[32m'accountDesc'\u001b[0m: \u001b[32m'Brokerage'\u001b[0m,\n",
       "        \u001b[32m'accountName'\u001b[0m: \u001b[32m'NickName-1'\u001b[0m,\n",
       "        \u001b[32m'accountType'\u001b[0m: \u001b[32m'MARGIN'\u001b[0m,\n",
       "        \u001b[32m'institutionType'\u001b[0m: \u001b[32m'BROKERAGE'\u001b[0m,\n",
       "        \u001b[32m'accountStatus'\u001b[0m: \u001b[32m'ACTIVE'\u001b[0m,\n",
       "        \u001b[32m'closedDate'\u001b[0m: \u001b[32m'0'\u001b[0m,\n",
       "        \u001b[32m'shareWorksAccount'\u001b[0m: \u001b[32m'false'\u001b[0m,\n",
       "        \u001b[32m'fcManagedMssbClosedAccount'\u001b[0m: \u001b[32m'false'\u001b[0m\n",
       "    \u001b[1m}\u001b[0m,\n",
       "    \u001b[1m{\u001b[0m\n",
       "        \u001b[32m'accountId'\u001b[0m: \u001b[32m'583156360'\u001b[0m,\n",
       "        \u001b[32m'accountIdKey'\u001b[0m: \u001b[32m'vQMsebA1H5WltUfDkJP48g'\u001b[0m,\n",
       "        \u001b[32m'accountMode'\u001b[0m: \u001b[32m'CASH'\u001b[0m,\n",
       "        \u001b[32m'accountDesc'\u001b[0m: \u001b[32m'Complete Savings'\u001b[0m,\n",
       "        \u001b[32m'accountName'\u001b[0m: \u001b[32m'NickName-2'\u001b[0m,\n",
       "        \u001b[32m'accountType'\u001b[0m: \u001b[32m'INDIVIDUAL'\u001b[0m,\n",
       "        \u001b[32m'institutionType'\u001b[0m: \u001b[32m'BROKERAGE'\u001b[0m,\n",
       "        \u001b[32m'accountStatus'\u001b[0m: \u001b[32m'ACTIVE'\u001b[0m,\n",
       "        \u001b[32m'closedDate'\u001b[0m: \u001b[32m'0'\u001b[0m,\n",
       "        \u001b[32m'shareWorksAccount'\u001b[0m: \u001b[32m'false'\u001b[0m,\n",
       "        \u001b[32m'fcManagedMssbClosedAccount'\u001b[0m: \u001b[32m'false'\u001b[0m\n",
       "    \u001b[1m}\u001b[0m,\n",
       "    \u001b[1m{\u001b[0m\n",
       "        \u001b[32m'accountId'\u001b[0m: \u001b[32m'707004180'\u001b[0m,\n",
       "        \u001b[32m'accountIdKey'\u001b[0m: \u001b[32m'6_Dpy0rmuQ9cu9IbTfvF2A'\u001b[0m,\n",
       "        \u001b[32m'accountMode'\u001b[0m: \u001b[32m'CASH'\u001b[0m,\n",
       "        \u001b[32m'accountDesc'\u001b[0m: \u001b[32m'INDIVIDUAL'\u001b[0m,\n",
       "        \u001b[32m'accountName'\u001b[0m: \u001b[32m'NickName-3'\u001b[0m,\n",
       "        \u001b[32m'accountType'\u001b[0m: \u001b[32m'INDIVIDUAL'\u001b[0m,\n",
       "        \u001b[32m'institutionType'\u001b[0m: \u001b[32m'BROKERAGE'\u001b[0m,\n",
       "        \u001b[32m'accountStatus'\u001b[0m: \u001b[32m'ACTIVE'\u001b[0m,\n",
       "        \u001b[32m'closedDate'\u001b[0m: \u001b[32m'0'\u001b[0m,\n",
       "        \u001b[32m'shareWorksAccount'\u001b[0m: \u001b[32m'false'\u001b[0m,\n",
       "        \u001b[32m'fcManagedMssbClosedAccount'\u001b[0m: \u001b[32m'false'\u001b[0m\n",
       "    \u001b[1m}\u001b[0m,\n",
       "    \u001b[1m{\u001b[0m\n",
       "        \u001b[32m'accountId'\u001b[0m: \u001b[32m'835151430'\u001b[0m,\n",
       "        \u001b[32m'accountIdKey'\u001b[0m: \u001b[32m'xj1Dc18FTqWPqkEEVUr5rw'\u001b[0m,\n",
       "        \u001b[32m'accountMode'\u001b[0m: \u001b[32m'CASH'\u001b[0m,\n",
       "        \u001b[32m'accountDesc'\u001b[0m: \u001b[32m'INDIVIDUAL'\u001b[0m,\n",
       "        \u001b[32m'accountName'\u001b[0m: \u001b[3;35mNone\u001b[0m,\n",
       "        \u001b[32m'accountType'\u001b[0m: \u001b[32m'CASH'\u001b[0m,\n",
       "        \u001b[32m'institutionType'\u001b[0m: \u001b[32m'BROKERAGE'\u001b[0m,\n",
       "        \u001b[32m'accountStatus'\u001b[0m: \u001b[32m'CLOSED'\u001b[0m,\n",
       "        \u001b[32m'closedDate'\u001b[0m: \u001b[32m'1521027780'\u001b[0m,\n",
       "        \u001b[32m'shareWorksAccount'\u001b[0m: \u001b[32m'false'\u001b[0m,\n",
       "        \u001b[32m'fcManagedMssbClosedAccount'\u001b[0m: \u001b[32m'false'\u001b[0m\n",
       "    \u001b[1m}\u001b[0m\n",
       "\u001b[1m]\u001b[0m\n"
      ]
     },
     "metadata": {},
     "output_type": "display_data"
    }
   ],
   "source": [
    "\n",
    "rprint(accounts)"
   ]
  },
  {
   "cell_type": "code",
<<<<<<< HEAD
   "execution_count": 40,
   "id": "421a0eb7",
   "metadata": {},
   "outputs": [
    {
     "data": {
      "text/html": [
       "<pre style=\"white-space:pre;overflow-x:auto;line-height:normal;font-family:Menlo,'DejaVu Sans Mono',consolas,'Courier New',monospace\"><span style=\"font-weight: bold\">{</span>\n",
       "    <span style=\"color: #008000; text-decoration-color: #008000\">'PlaceOrderResponse'</span>: <span style=\"font-weight: bold\">{</span>\n",
       "        <span style=\"color: #008000; text-decoration-color: #008000\">'orderType'</span>: <span style=\"color: #008000; text-decoration-color: #008000\">'EQ'</span>,\n",
       "        <span style=\"color: #008000; text-decoration-color: #008000\">'MessageList'</span>: <span style=\"color: #800080; text-decoration-color: #800080; font-style: italic\">None</span>,\n",
       "        <span style=\"color: #008000; text-decoration-color: #008000\">'Order'</span>: <span style=\"font-weight: bold\">{</span>\n",
       "            <span style=\"color: #008000; text-decoration-color: #008000\">'orderTerm'</span>: <span style=\"color: #008000; text-decoration-color: #008000\">'GOOD_FOR_DAY'</span>,\n",
       "            <span style=\"color: #008000; text-decoration-color: #008000\">'priceType'</span>: <span style=\"color: #008000; text-decoration-color: #008000\">'MARKET'</span>,\n",
       "            <span style=\"color: #008000; text-decoration-color: #008000\">'limitPrice'</span>: <span style=\"color: #008000; text-decoration-color: #008000\">'0'</span>,\n",
       "            <span style=\"color: #008000; text-decoration-color: #008000\">'stopPrice'</span>: <span style=\"color: #008000; text-decoration-color: #008000\">'0'</span>,\n",
       "            <span style=\"color: #008000; text-decoration-color: #008000\">'marketSession'</span>: <span style=\"color: #008000; text-decoration-color: #008000\">'REGULAR'</span>,\n",
       "            <span style=\"color: #008000; text-decoration-color: #008000\">'allOrNone'</span>: <span style=\"color: #008000; text-decoration-color: #008000\">'false'</span>,\n",
       "            <span style=\"color: #008000; text-decoration-color: #008000\">'Instrument'</span>: <span style=\"font-weight: bold\">{</span>\n",
       "                <span style=\"color: #008000; text-decoration-color: #008000\">'Product'</span>: <span style=\"font-weight: bold\">{</span><span style=\"color: #008000; text-decoration-color: #008000\">'symbol'</span>: <span style=\"color: #008000; text-decoration-color: #008000\">'IBM'</span>, <span style=\"color: #008000; text-decoration-color: #008000\">'securityType'</span>: <span style=\"color: #008000; text-decoration-color: #008000\">'EQ'</span><span style=\"font-weight: bold\">}</span>,\n",
       "                <span style=\"color: #008000; text-decoration-color: #008000\">'symbolDescription'</span>: <span style=\"color: #800080; text-decoration-color: #800080; font-style: italic\">None</span>,\n",
       "                <span style=\"color: #008000; text-decoration-color: #008000\">'orderAction'</span>: <span style=\"color: #008000; text-decoration-color: #008000\">'BUY'</span>,\n",
       "                <span style=\"color: #008000; text-decoration-color: #008000\">'quantityType'</span>: <span style=\"color: #008000; text-decoration-color: #008000\">'QUANTITY'</span>,\n",
       "                <span style=\"color: #008000; text-decoration-color: #008000\">'quantity'</span>: <span style=\"color: #008000; text-decoration-color: #008000\">'100'</span>,\n",
       "                <span style=\"color: #008000; text-decoration-color: #008000\">'cancelQuantity'</span>: <span style=\"color: #008000; text-decoration-color: #008000\">'0'</span>,\n",
       "                <span style=\"color: #008000; text-decoration-color: #008000\">'reserveOrder'</span>: <span style=\"color: #008000; text-decoration-color: #008000\">'false'</span>,\n",
       "                <span style=\"color: #008000; text-decoration-color: #008000\">'reserveQuantity'</span>: <span style=\"color: #008000; text-decoration-color: #008000\">'0'</span>\n",
       "            <span style=\"font-weight: bold\">}</span>,\n",
       "            <span style=\"color: #008000; text-decoration-color: #008000\">'messages'</span>: <span style=\"font-weight: bold\">{</span><span style=\"color: #008000; text-decoration-color: #008000\">'Message'</span>: <span style=\"font-weight: bold\">{</span><span style=\"color: #008000; text-decoration-color: #008000\">'code'</span>: <span style=\"color: #008000; text-decoration-color: #008000\">'1026'</span>, <span style=\"color: #008000; text-decoration-color: #008000\">'description'</span>: <span style=\"color: #008000; text-decoration-color: #008000\">'Normal: order created'</span>, <span style=\"color: #008000; text-decoration-color: #008000\">'type'</span>: <span style=\"color: #008000; text-decoration-color: #008000\">'WARNING'</span><span style=\"font-weight: bold\">}}</span>,\n",
       "            <span style=\"color: #008000; text-decoration-color: #008000\">'egQual'</span>: <span style=\"color: #008000; text-decoration-color: #008000\">'EG_QUAL_QUALIFIED'</span>,\n",
       "            <span style=\"color: #008000; text-decoration-color: #008000\">'estimatedCommission'</span>: <span style=\"color: #008000; text-decoration-color: #008000\">'7.99'</span>,\n",
       "            <span style=\"color: #008000; text-decoration-color: #008000\">'estimatedFees'</span>: <span style=\"color: #008000; text-decoration-color: #008000\">'0.0'</span>,\n",
       "            <span style=\"color: #008000; text-decoration-color: #008000\">'netPrice'</span>: <span style=\"color: #008000; text-decoration-color: #008000\">'0'</span>,\n",
       "            <span style=\"color: #008000; text-decoration-color: #008000\">'netBid'</span>: <span style=\"color: #008000; text-decoration-color: #008000\">'0'</span>,\n",
       "            <span style=\"color: #008000; text-decoration-color: #008000\">'netAsk'</span>: <span style=\"color: #008000; text-decoration-color: #008000\">'0'</span>,\n",
       "            <span style=\"color: #008000; text-decoration-color: #008000\">'gcd'</span>: <span style=\"color: #008000; text-decoration-color: #008000\">'0'</span>,\n",
       "            <span style=\"color: #008000; text-decoration-color: #008000\">'ratio'</span>: <span style=\"color: #800080; text-decoration-color: #800080; font-style: italic\">None</span>\n",
       "        <span style=\"font-weight: bold\">}</span>,\n",
       "        <span style=\"color: #008000; text-decoration-color: #008000\">'dstFlag'</span>: <span style=\"color: #008000; text-decoration-color: #008000\">'false'</span>,\n",
       "        <span style=\"color: #008000; text-decoration-color: #008000\">'optionLevelCd'</span>: <span style=\"color: #008000; text-decoration-color: #008000\">'4'</span>,\n",
       "        <span style=\"color: #008000; text-decoration-color: #008000\">'marginLevelCd'</span>: <span style=\"color: #008000; text-decoration-color: #008000\">'MARGIN_TRADING_ALLOWED'</span>,\n",
       "        <span style=\"color: #008000; text-decoration-color: #008000\">'OrderIds'</span>: <span style=\"font-weight: bold\">{</span><span style=\"color: #008000; text-decoration-color: #008000\">'orderId'</span>: <span style=\"color: #008000; text-decoration-color: #008000\">'529'</span><span style=\"font-weight: bold\">}</span>,\n",
       "        <span style=\"color: #008000; text-decoration-color: #008000\">'placedTime'</span>: <span style=\"color: #008000; text-decoration-color: #008000\">'1354532494528'</span>,\n",
       "        <span style=\"color: #008000; text-decoration-color: #008000\">'accountId'</span>: <span style=\"color: #008000; text-decoration-color: #008000\">'837108000'</span>,\n",
       "        <span style=\"color: #008000; text-decoration-color: #008000\">'PortfolioMargin'</span>: <span style=\"font-weight: bold\">{</span>\n",
       "            <span style=\"color: #008000; text-decoration-color: #008000\">'houseExcessEquityChange'</span>: <span style=\"color: #008000; text-decoration-color: #008000\">'0.0'</span>,\n",
       "            <span style=\"color: #008000; text-decoration-color: #008000\">'houseExcessEquityCurr'</span>: <span style=\"color: #008000; text-decoration-color: #008000\">'0.0'</span>,\n",
       "            <span style=\"color: #008000; text-decoration-color: #008000\">'houseExcessEquityNew'</span>: <span style=\"color: #008000; text-decoration-color: #008000\">'0.0'</span>,\n",
       "            <span style=\"color: #008000; text-decoration-color: #008000\">'pmEligible'</span>: <span style=\"color: #008000; text-decoration-color: #008000\">'false'</span>\n",
       "        <span style=\"font-weight: bold\">}</span>\n",
       "    <span style=\"font-weight: bold\">}</span>\n",
       "<span style=\"font-weight: bold\">}</span>\n",
       "</pre>\n"
      ],
      "text/plain": [
       "\u001b[1m{\u001b[0m\n",
       "    \u001b[32m'PlaceOrderResponse'\u001b[0m: \u001b[1m{\u001b[0m\n",
       "        \u001b[32m'orderType'\u001b[0m: \u001b[32m'EQ'\u001b[0m,\n",
       "        \u001b[32m'MessageList'\u001b[0m: \u001b[3;35mNone\u001b[0m,\n",
       "        \u001b[32m'Order'\u001b[0m: \u001b[1m{\u001b[0m\n",
       "            \u001b[32m'orderTerm'\u001b[0m: \u001b[32m'GOOD_FOR_DAY'\u001b[0m,\n",
       "            \u001b[32m'priceType'\u001b[0m: \u001b[32m'MARKET'\u001b[0m,\n",
       "            \u001b[32m'limitPrice'\u001b[0m: \u001b[32m'0'\u001b[0m,\n",
       "            \u001b[32m'stopPrice'\u001b[0m: \u001b[32m'0'\u001b[0m,\n",
       "            \u001b[32m'marketSession'\u001b[0m: \u001b[32m'REGULAR'\u001b[0m,\n",
       "            \u001b[32m'allOrNone'\u001b[0m: \u001b[32m'false'\u001b[0m,\n",
       "            \u001b[32m'Instrument'\u001b[0m: \u001b[1m{\u001b[0m\n",
       "                \u001b[32m'Product'\u001b[0m: \u001b[1m{\u001b[0m\u001b[32m'symbol'\u001b[0m: \u001b[32m'IBM'\u001b[0m, \u001b[32m'securityType'\u001b[0m: \u001b[32m'EQ'\u001b[0m\u001b[1m}\u001b[0m,\n",
       "                \u001b[32m'symbolDescription'\u001b[0m: \u001b[3;35mNone\u001b[0m,\n",
       "                \u001b[32m'orderAction'\u001b[0m: \u001b[32m'BUY'\u001b[0m,\n",
       "                \u001b[32m'quantityType'\u001b[0m: \u001b[32m'QUANTITY'\u001b[0m,\n",
       "                \u001b[32m'quantity'\u001b[0m: \u001b[32m'100'\u001b[0m,\n",
       "                \u001b[32m'cancelQuantity'\u001b[0m: \u001b[32m'0'\u001b[0m,\n",
       "                \u001b[32m'reserveOrder'\u001b[0m: \u001b[32m'false'\u001b[0m,\n",
       "                \u001b[32m'reserveQuantity'\u001b[0m: \u001b[32m'0'\u001b[0m\n",
       "            \u001b[1m}\u001b[0m,\n",
       "            \u001b[32m'messages'\u001b[0m: \u001b[1m{\u001b[0m\u001b[32m'Message'\u001b[0m: \u001b[1m{\u001b[0m\u001b[32m'code'\u001b[0m: \u001b[32m'1026'\u001b[0m, \u001b[32m'description'\u001b[0m: \u001b[32m'Normal: order created'\u001b[0m, \u001b[32m'type'\u001b[0m: \u001b[32m'WARNING'\u001b[0m\u001b[1m}\u001b[0m\u001b[1m}\u001b[0m,\n",
       "            \u001b[32m'egQual'\u001b[0m: \u001b[32m'EG_QUAL_QUALIFIED'\u001b[0m,\n",
       "            \u001b[32m'estimatedCommission'\u001b[0m: \u001b[32m'7.99'\u001b[0m,\n",
       "            \u001b[32m'estimatedFees'\u001b[0m: \u001b[32m'0.0'\u001b[0m,\n",
       "            \u001b[32m'netPrice'\u001b[0m: \u001b[32m'0'\u001b[0m,\n",
       "            \u001b[32m'netBid'\u001b[0m: \u001b[32m'0'\u001b[0m,\n",
       "            \u001b[32m'netAsk'\u001b[0m: \u001b[32m'0'\u001b[0m,\n",
       "            \u001b[32m'gcd'\u001b[0m: \u001b[32m'0'\u001b[0m,\n",
       "            \u001b[32m'ratio'\u001b[0m: \u001b[3;35mNone\u001b[0m\n",
       "        \u001b[1m}\u001b[0m,\n",
       "        \u001b[32m'dstFlag'\u001b[0m: \u001b[32m'false'\u001b[0m,\n",
       "        \u001b[32m'optionLevelCd'\u001b[0m: \u001b[32m'4'\u001b[0m,\n",
       "        \u001b[32m'marginLevelCd'\u001b[0m: \u001b[32m'MARGIN_TRADING_ALLOWED'\u001b[0m,\n",
       "        \u001b[32m'OrderIds'\u001b[0m: \u001b[1m{\u001b[0m\u001b[32m'orderId'\u001b[0m: \u001b[32m'529'\u001b[0m\u001b[1m}\u001b[0m,\n",
       "        \u001b[32m'placedTime'\u001b[0m: \u001b[32m'1354532494528'\u001b[0m,\n",
       "        \u001b[32m'accountId'\u001b[0m: \u001b[32m'837108000'\u001b[0m,\n",
       "        \u001b[32m'PortfolioMargin'\u001b[0m: \u001b[1m{\u001b[0m\n",
       "            \u001b[32m'houseExcessEquityChange'\u001b[0m: \u001b[32m'0.0'\u001b[0m,\n",
       "            \u001b[32m'houseExcessEquityCurr'\u001b[0m: \u001b[32m'0.0'\u001b[0m,\n",
       "            \u001b[32m'houseExcessEquityNew'\u001b[0m: \u001b[32m'0.0'\u001b[0m,\n",
       "            \u001b[32m'pmEligible'\u001b[0m: \u001b[32m'false'\u001b[0m\n",
       "        \u001b[1m}\u001b[0m\n",
       "    \u001b[1m}\u001b[0m\n",
       "\u001b[1m}\u001b[0m\n"
      ]
     },
     "metadata": {},
     "output_type": "display_data"
    }
   ],
   "source": [
    "confirmation = orders.place_equity_order(\n",
    "    accountIdKey=current_account,\n",
    "    symbol=\"GOOG\",\n",
=======
   "execution_count": 46,
   "id": "421a0eb7",
   "metadata": {},
   "outputs": [],
   "source": [
    "confirmation = orders.place_equity_order(\n",
    "    accountIdKey=current_account,\n",
    "    symbol=\"AAPL\",\n",
>>>>>>> 7305e14bf5e52a6d1ddd4e982192a9fadbd0a7fc
    "    orderAction='BUY',\n",
    "    clientOrderId='2',\n",
    "    priceType='MARKET',\n",
    "    quantity=1,\n",
    "    marketSession=\"REGULAR\",\n",
    "    orderTerm=\"GOOD_FOR_DAY\"\n",
<<<<<<< HEAD
    ")\n",
    "rprint(confirmation)"
=======
    ")"
>>>>>>> 7305e14bf5e52a6d1ddd4e982192a9fadbd0a7fc
   ]
  },
  {
   "cell_type": "code",
<<<<<<< HEAD
   "execution_count": 41,
   "id": "db731d04",
   "metadata": {},
   "outputs": [],
   "source": [
    "# # Try specifying count and marketSession explicitly\n",
    "# account_orders = orders.list_order_details(\n",
    "# \taccount_id_key=current_account, order_id=529\n",
    "# )"
=======
   "execution_count": 51,
   "id": "db731d04",
   "metadata": {},
   "outputs": [
    {
     "ename": "HTTPError",
     "evalue": "500 Server Error: 500 for url: https://apisb.etrade.com/v1/accounts/6_Dpy0rmuQ9cu9IbTfvF2A/orders/529.json",
     "output_type": "error",
     "traceback": [
      "\u001b[31m---------------------------------------------------------------------------\u001b[39m",
      "\u001b[31mHTTPError\u001b[39m                                 Traceback (most recent call last)",
      "\u001b[36mCell\u001b[39m\u001b[36m \u001b[39m\u001b[32mIn[51]\u001b[39m\u001b[32m, line 2\u001b[39m\n\u001b[32m      1\u001b[39m \u001b[38;5;66;03m# Try specifying count and marketSession explicitly\u001b[39;00m\n\u001b[32m----> \u001b[39m\u001b[32m2\u001b[39m account_orders = \u001b[43morders\u001b[49m\u001b[43m.\u001b[49m\u001b[43mlist_order_details\u001b[49m\u001b[43m(\u001b[49m\n\u001b[32m      3\u001b[39m \u001b[43m\t\u001b[49m\u001b[43maccount_id_key\u001b[49m\u001b[43m=\u001b[49m\u001b[43mcurrent_account\u001b[49m\u001b[43m,\u001b[49m\u001b[43m \u001b[49m\u001b[43morder_id\u001b[49m\u001b[43m=\u001b[49m\u001b[32;43m529\u001b[39;49m\n\u001b[32m      4\u001b[39m \u001b[43m)\u001b[49m\n",
      "\u001b[36mFile \u001b[39m\u001b[32m~/.cache/pypoetry/virtualenvs/ramblingrealms-trading-RC3nh33Z-py3.12/lib/python3.12/site-packages/pyetrade/order.py:253\u001b[39m, in \u001b[36mETradeOrder.list_order_details\u001b[39m\u001b[34m(self, account_id_key, order_id, resp_format)\u001b[39m\n\u001b[32m    250\u001b[39m LOGGER.debug(api_url)\n\u001b[32m    252\u001b[39m req = \u001b[38;5;28mself\u001b[39m.session.get(api_url)\n\u001b[32m--> \u001b[39m\u001b[32m253\u001b[39m \u001b[43mreq\u001b[49m\u001b[43m.\u001b[49m\u001b[43mraise_for_status\u001b[49m\u001b[43m(\u001b[49m\u001b[43m)\u001b[49m\n\u001b[32m    255\u001b[39m LOGGER.debug(req.text)\n\u001b[32m    257\u001b[39m \u001b[38;5;28;01mreturn\u001b[39;00m xmltodict.parse(req.text) \u001b[38;5;28;01mif\u001b[39;00m resp_format.lower() == \u001b[33m\"\u001b[39m\u001b[33mxml\u001b[39m\u001b[33m\"\u001b[39m \u001b[38;5;28;01melse\u001b[39;00m req.json()\n",
      "\u001b[36mFile \u001b[39m\u001b[32m~/.cache/pypoetry/virtualenvs/ramblingrealms-trading-RC3nh33Z-py3.12/lib/python3.12/site-packages/requests/models.py:1024\u001b[39m, in \u001b[36mResponse.raise_for_status\u001b[39m\u001b[34m(self)\u001b[39m\n\u001b[32m   1019\u001b[39m     http_error_msg = (\n\u001b[32m   1020\u001b[39m         \u001b[33mf\u001b[39m\u001b[33m\"\u001b[39m\u001b[38;5;132;01m{\u001b[39;00m\u001b[38;5;28mself\u001b[39m.status_code\u001b[38;5;132;01m}\u001b[39;00m\u001b[33m Server Error: \u001b[39m\u001b[38;5;132;01m{\u001b[39;00mreason\u001b[38;5;132;01m}\u001b[39;00m\u001b[33m for url: \u001b[39m\u001b[38;5;132;01m{\u001b[39;00m\u001b[38;5;28mself\u001b[39m.url\u001b[38;5;132;01m}\u001b[39;00m\u001b[33m\"\u001b[39m\n\u001b[32m   1021\u001b[39m     )\n\u001b[32m   1023\u001b[39m \u001b[38;5;28;01mif\u001b[39;00m http_error_msg:\n\u001b[32m-> \u001b[39m\u001b[32m1024\u001b[39m     \u001b[38;5;28;01mraise\u001b[39;00m HTTPError(http_error_msg, response=\u001b[38;5;28mself\u001b[39m)\n",
      "\u001b[31mHTTPError\u001b[39m: 500 Server Error: 500 for url: https://apisb.etrade.com/v1/accounts/6_Dpy0rmuQ9cu9IbTfvF2A/orders/529.json"
     ]
    }
   ],
   "source": [
    "# Try specifying count and marketSession explicitly\n",
    "account_orders = orders.list_order_details(\n",
    "\taccount_id_key=current_account, order_id=529\n",
    ")"
>>>>>>> 7305e14bf5e52a6d1ddd4e982192a9fadbd0a7fc
   ]
  },
  {
   "cell_type": "code",
<<<<<<< HEAD
   "execution_count": 42,
=======
   "execution_count": 48,
>>>>>>> 7305e14bf5e52a6d1ddd4e982192a9fadbd0a7fc
   "id": "4d28d320",
   "metadata": {},
   "outputs": [
    {
     "data": {
      "text/html": [
       "<pre style=\"white-space:pre;overflow-x:auto;line-height:normal;font-family:Menlo,'DejaVu Sans Mono',consolas,'Courier New',monospace\"><span style=\"font-weight: bold\">{</span>\n",
       "    <span style=\"color: #008000; text-decoration-color: #008000\">'PlaceOrderResponse'</span>: <span style=\"font-weight: bold\">{</span>\n",
       "        <span style=\"color: #008000; text-decoration-color: #008000\">'orderType'</span>: <span style=\"color: #008000; text-decoration-color: #008000\">'EQ'</span>,\n",
       "        <span style=\"color: #008000; text-decoration-color: #008000\">'MessageList'</span>: <span style=\"color: #800080; text-decoration-color: #800080; font-style: italic\">None</span>,\n",
       "        <span style=\"color: #008000; text-decoration-color: #008000\">'Order'</span>: <span style=\"font-weight: bold\">{</span>\n",
       "            <span style=\"color: #008000; text-decoration-color: #008000\">'orderTerm'</span>: <span style=\"color: #008000; text-decoration-color: #008000\">'GOOD_FOR_DAY'</span>,\n",
       "            <span style=\"color: #008000; text-decoration-color: #008000\">'priceType'</span>: <span style=\"color: #008000; text-decoration-color: #008000\">'MARKET'</span>,\n",
       "            <span style=\"color: #008000; text-decoration-color: #008000\">'limitPrice'</span>: <span style=\"color: #008000; text-decoration-color: #008000\">'0'</span>,\n",
       "            <span style=\"color: #008000; text-decoration-color: #008000\">'stopPrice'</span>: <span style=\"color: #008000; text-decoration-color: #008000\">'0'</span>,\n",
       "            <span style=\"color: #008000; text-decoration-color: #008000\">'marketSession'</span>: <span style=\"color: #008000; text-decoration-color: #008000\">'REGULAR'</span>,\n",
       "            <span style=\"color: #008000; text-decoration-color: #008000\">'allOrNone'</span>: <span style=\"color: #008000; text-decoration-color: #008000\">'false'</span>,\n",
       "            <span style=\"color: #008000; text-decoration-color: #008000\">'Instrument'</span>: <span style=\"font-weight: bold\">{</span>\n",
       "                <span style=\"color: #008000; text-decoration-color: #008000\">'Product'</span>: <span style=\"font-weight: bold\">{</span><span style=\"color: #008000; text-decoration-color: #008000\">'symbol'</span>: <span style=\"color: #008000; text-decoration-color: #008000\">'IBM'</span>, <span style=\"color: #008000; text-decoration-color: #008000\">'securityType'</span>: <span style=\"color: #008000; text-decoration-color: #008000\">'EQ'</span><span style=\"font-weight: bold\">}</span>,\n",
       "                <span style=\"color: #008000; text-decoration-color: #008000\">'symbolDescription'</span>: <span style=\"color: #800080; text-decoration-color: #800080; font-style: italic\">None</span>,\n",
       "                <span style=\"color: #008000; text-decoration-color: #008000\">'orderAction'</span>: <span style=\"color: #008000; text-decoration-color: #008000\">'BUY'</span>,\n",
       "                <span style=\"color: #008000; text-decoration-color: #008000\">'quantityType'</span>: <span style=\"color: #008000; text-decoration-color: #008000\">'QUANTITY'</span>,\n",
       "                <span style=\"color: #008000; text-decoration-color: #008000\">'quantity'</span>: <span style=\"color: #008000; text-decoration-color: #008000\">'100'</span>,\n",
       "                <span style=\"color: #008000; text-decoration-color: #008000\">'cancelQuantity'</span>: <span style=\"color: #008000; text-decoration-color: #008000\">'0'</span>,\n",
       "                <span style=\"color: #008000; text-decoration-color: #008000\">'reserveOrder'</span>: <span style=\"color: #008000; text-decoration-color: #008000\">'false'</span>,\n",
       "                <span style=\"color: #008000; text-decoration-color: #008000\">'reserveQuantity'</span>: <span style=\"color: #008000; text-decoration-color: #008000\">'0'</span>\n",
       "            <span style=\"font-weight: bold\">}</span>,\n",
       "            <span style=\"color: #008000; text-decoration-color: #008000\">'messages'</span>: <span style=\"font-weight: bold\">{</span><span style=\"color: #008000; text-decoration-color: #008000\">'Message'</span>: <span style=\"font-weight: bold\">{</span><span style=\"color: #008000; text-decoration-color: #008000\">'code'</span>: <span style=\"color: #008000; text-decoration-color: #008000\">'1026'</span>, <span style=\"color: #008000; text-decoration-color: #008000\">'description'</span>: <span style=\"color: #008000; text-decoration-color: #008000\">'Normal: order created'</span>, <span style=\"color: #008000; text-decoration-color: #008000\">'type'</span>: <span style=\"color: #008000; text-decoration-color: #008000\">'WARNING'</span><span style=\"font-weight: bold\">}}</span>,\n",
       "            <span style=\"color: #008000; text-decoration-color: #008000\">'egQual'</span>: <span style=\"color: #008000; text-decoration-color: #008000\">'EG_QUAL_QUALIFIED'</span>,\n",
       "            <span style=\"color: #008000; text-decoration-color: #008000\">'estimatedCommission'</span>: <span style=\"color: #008000; text-decoration-color: #008000\">'7.99'</span>,\n",
       "            <span style=\"color: #008000; text-decoration-color: #008000\">'estimatedFees'</span>: <span style=\"color: #008000; text-decoration-color: #008000\">'0.0'</span>,\n",
       "            <span style=\"color: #008000; text-decoration-color: #008000\">'netPrice'</span>: <span style=\"color: #008000; text-decoration-color: #008000\">'0'</span>,\n",
       "            <span style=\"color: #008000; text-decoration-color: #008000\">'netBid'</span>: <span style=\"color: #008000; text-decoration-color: #008000\">'0'</span>,\n",
       "            <span style=\"color: #008000; text-decoration-color: #008000\">'netAsk'</span>: <span style=\"color: #008000; text-decoration-color: #008000\">'0'</span>,\n",
       "            <span style=\"color: #008000; text-decoration-color: #008000\">'gcd'</span>: <span style=\"color: #008000; text-decoration-color: #008000\">'0'</span>,\n",
       "            <span style=\"color: #008000; text-decoration-color: #008000\">'ratio'</span>: <span style=\"color: #800080; text-decoration-color: #800080; font-style: italic\">None</span>\n",
       "        <span style=\"font-weight: bold\">}</span>,\n",
       "        <span style=\"color: #008000; text-decoration-color: #008000\">'dstFlag'</span>: <span style=\"color: #008000; text-decoration-color: #008000\">'false'</span>,\n",
       "        <span style=\"color: #008000; text-decoration-color: #008000\">'optionLevelCd'</span>: <span style=\"color: #008000; text-decoration-color: #008000\">'4'</span>,\n",
       "        <span style=\"color: #008000; text-decoration-color: #008000\">'marginLevelCd'</span>: <span style=\"color: #008000; text-decoration-color: #008000\">'MARGIN_TRADING_ALLOWED'</span>,\n",
       "        <span style=\"color: #008000; text-decoration-color: #008000\">'OrderIds'</span>: <span style=\"font-weight: bold\">{</span><span style=\"color: #008000; text-decoration-color: #008000\">'orderId'</span>: <span style=\"color: #008000; text-decoration-color: #008000\">'529'</span><span style=\"font-weight: bold\">}</span>,\n",
       "        <span style=\"color: #008000; text-decoration-color: #008000\">'placedTime'</span>: <span style=\"color: #008000; text-decoration-color: #008000\">'1354532494528'</span>,\n",
       "        <span style=\"color: #008000; text-decoration-color: #008000\">'accountId'</span>: <span style=\"color: #008000; text-decoration-color: #008000\">'837108000'</span>,\n",
       "        <span style=\"color: #008000; text-decoration-color: #008000\">'PortfolioMargin'</span>: <span style=\"font-weight: bold\">{</span>\n",
       "            <span style=\"color: #008000; text-decoration-color: #008000\">'houseExcessEquityChange'</span>: <span style=\"color: #008000; text-decoration-color: #008000\">'0.0'</span>,\n",
       "            <span style=\"color: #008000; text-decoration-color: #008000\">'houseExcessEquityCurr'</span>: <span style=\"color: #008000; text-decoration-color: #008000\">'0.0'</span>,\n",
       "            <span style=\"color: #008000; text-decoration-color: #008000\">'houseExcessEquityNew'</span>: <span style=\"color: #008000; text-decoration-color: #008000\">'0.0'</span>,\n",
       "            <span style=\"color: #008000; text-decoration-color: #008000\">'pmEligible'</span>: <span style=\"color: #008000; text-decoration-color: #008000\">'false'</span>\n",
       "        <span style=\"font-weight: bold\">}</span>\n",
       "    <span style=\"font-weight: bold\">}</span>\n",
       "<span style=\"font-weight: bold\">}</span>\n",
       "</pre>\n"
      ],
      "text/plain": [
       "\u001b[1m{\u001b[0m\n",
       "    \u001b[32m'PlaceOrderResponse'\u001b[0m: \u001b[1m{\u001b[0m\n",
       "        \u001b[32m'orderType'\u001b[0m: \u001b[32m'EQ'\u001b[0m,\n",
       "        \u001b[32m'MessageList'\u001b[0m: \u001b[3;35mNone\u001b[0m,\n",
       "        \u001b[32m'Order'\u001b[0m: \u001b[1m{\u001b[0m\n",
       "            \u001b[32m'orderTerm'\u001b[0m: \u001b[32m'GOOD_FOR_DAY'\u001b[0m,\n",
       "            \u001b[32m'priceType'\u001b[0m: \u001b[32m'MARKET'\u001b[0m,\n",
       "            \u001b[32m'limitPrice'\u001b[0m: \u001b[32m'0'\u001b[0m,\n",
       "            \u001b[32m'stopPrice'\u001b[0m: \u001b[32m'0'\u001b[0m,\n",
       "            \u001b[32m'marketSession'\u001b[0m: \u001b[32m'REGULAR'\u001b[0m,\n",
       "            \u001b[32m'allOrNone'\u001b[0m: \u001b[32m'false'\u001b[0m,\n",
       "            \u001b[32m'Instrument'\u001b[0m: \u001b[1m{\u001b[0m\n",
       "                \u001b[32m'Product'\u001b[0m: \u001b[1m{\u001b[0m\u001b[32m'symbol'\u001b[0m: \u001b[32m'IBM'\u001b[0m, \u001b[32m'securityType'\u001b[0m: \u001b[32m'EQ'\u001b[0m\u001b[1m}\u001b[0m,\n",
       "                \u001b[32m'symbolDescription'\u001b[0m: \u001b[3;35mNone\u001b[0m,\n",
       "                \u001b[32m'orderAction'\u001b[0m: \u001b[32m'BUY'\u001b[0m,\n",
       "                \u001b[32m'quantityType'\u001b[0m: \u001b[32m'QUANTITY'\u001b[0m,\n",
       "                \u001b[32m'quantity'\u001b[0m: \u001b[32m'100'\u001b[0m,\n",
       "                \u001b[32m'cancelQuantity'\u001b[0m: \u001b[32m'0'\u001b[0m,\n",
       "                \u001b[32m'reserveOrder'\u001b[0m: \u001b[32m'false'\u001b[0m,\n",
       "                \u001b[32m'reserveQuantity'\u001b[0m: \u001b[32m'0'\u001b[0m\n",
       "            \u001b[1m}\u001b[0m,\n",
       "            \u001b[32m'messages'\u001b[0m: \u001b[1m{\u001b[0m\u001b[32m'Message'\u001b[0m: \u001b[1m{\u001b[0m\u001b[32m'code'\u001b[0m: \u001b[32m'1026'\u001b[0m, \u001b[32m'description'\u001b[0m: \u001b[32m'Normal: order created'\u001b[0m, \u001b[32m'type'\u001b[0m: \u001b[32m'WARNING'\u001b[0m\u001b[1m}\u001b[0m\u001b[1m}\u001b[0m,\n",
       "            \u001b[32m'egQual'\u001b[0m: \u001b[32m'EG_QUAL_QUALIFIED'\u001b[0m,\n",
       "            \u001b[32m'estimatedCommission'\u001b[0m: \u001b[32m'7.99'\u001b[0m,\n",
       "            \u001b[32m'estimatedFees'\u001b[0m: \u001b[32m'0.0'\u001b[0m,\n",
       "            \u001b[32m'netPrice'\u001b[0m: \u001b[32m'0'\u001b[0m,\n",
       "            \u001b[32m'netBid'\u001b[0m: \u001b[32m'0'\u001b[0m,\n",
       "            \u001b[32m'netAsk'\u001b[0m: \u001b[32m'0'\u001b[0m,\n",
       "            \u001b[32m'gcd'\u001b[0m: \u001b[32m'0'\u001b[0m,\n",
       "            \u001b[32m'ratio'\u001b[0m: \u001b[3;35mNone\u001b[0m\n",
       "        \u001b[1m}\u001b[0m,\n",
       "        \u001b[32m'dstFlag'\u001b[0m: \u001b[32m'false'\u001b[0m,\n",
       "        \u001b[32m'optionLevelCd'\u001b[0m: \u001b[32m'4'\u001b[0m,\n",
       "        \u001b[32m'marginLevelCd'\u001b[0m: \u001b[32m'MARGIN_TRADING_ALLOWED'\u001b[0m,\n",
       "        \u001b[32m'OrderIds'\u001b[0m: \u001b[1m{\u001b[0m\u001b[32m'orderId'\u001b[0m: \u001b[32m'529'\u001b[0m\u001b[1m}\u001b[0m,\n",
       "        \u001b[32m'placedTime'\u001b[0m: \u001b[32m'1354532494528'\u001b[0m,\n",
       "        \u001b[32m'accountId'\u001b[0m: \u001b[32m'837108000'\u001b[0m,\n",
       "        \u001b[32m'PortfolioMargin'\u001b[0m: \u001b[1m{\u001b[0m\n",
       "            \u001b[32m'houseExcessEquityChange'\u001b[0m: \u001b[32m'0.0'\u001b[0m,\n",
       "            \u001b[32m'houseExcessEquityCurr'\u001b[0m: \u001b[32m'0.0'\u001b[0m,\n",
       "            \u001b[32m'houseExcessEquityNew'\u001b[0m: \u001b[32m'0.0'\u001b[0m,\n",
       "            \u001b[32m'pmEligible'\u001b[0m: \u001b[32m'false'\u001b[0m\n",
       "        \u001b[1m}\u001b[0m\n",
       "    \u001b[1m}\u001b[0m\n",
       "\u001b[1m}\u001b[0m\n"
      ]
     },
     "metadata": {},
     "output_type": "display_data"
    }
   ],
   "source": [
    "rprint(confirmation)"
   ]
  }
 ],
 "metadata": {
  "kernelspec": {
   "display_name": "ramblingrealms-trading-RC3nh33Z-py3.12",
   "language": "python",
   "name": "python3"
  },
  "language_info": {
   "codemirror_mode": {
    "name": "ipython",
    "version": 3
   },
   "file_extension": ".py",
   "mimetype": "text/x-python",
   "name": "python",
   "nbconvert_exporter": "python",
   "pygments_lexer": "ipython3",
   "version": "3.12.3"
  }
 },
 "nbformat": 4,
 "nbformat_minor": 5
}

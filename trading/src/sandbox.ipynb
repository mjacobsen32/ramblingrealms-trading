{
 "cells": [
  {
   "cell_type": "code",
   "execution_count": null,
   "id": "7cbf8d29",
   "metadata": {},
   "outputs": [],
   "source": [
    "import trading.cli.etrade\n",
    "from trading.src.user_cache.user_cache import UserCache as user_cache\n",
    "import pyetrade as etrade\n",
    "from rich import print as rprint"
   ]
  },
  {
   "cell_type": "code",
   "execution_count": null,
   "id": "1d533f23",
   "metadata": {},
   "outputs": [],
   "source": [
    "import logging\n",
    "import http.client as http_client\n",
    "\n",
    "# Enable HTTP debugging\n",
    "http_client.HTTPConnection.debuglevel = 1\n",
    "\n",
    "# Configure logging\n",
    "logging.basicConfig()\n",
    "logging.getLogger().setLevel(logging.DEBUG)\n",
    "logging.getLogger(\"urllib3\").setLevel(logging.DEBUG)\n",
    "logging.getLogger(\"pyetrade\").setLevel(logging.DEBUG)"
   ]
  },
  {
   "cell_type": "code",
   "execution_count": null,
   "id": "8547742d",
   "metadata": {},
   "outputs": [],
   "source": [
    "etrade_secrets = user_cache.load().get_active_secrets()\n",
    "orders = etrade.ETradeOrder(\n",
    "    etrade_secrets.api_key.get_secret_value(), \n",
    "    etrade_secrets.api_secret.get_secret_value(), \n",
    "    etrade_secrets.oauth_token.get_secret_value(), \n",
    "    etrade_secrets.oauth_token_secret.get_secret_value()\n",
    ")\n"
   ]
  },
  {
   "cell_type": "code",
   "execution_count": null,
   "id": "90b046f6",
   "metadata": {},
   "outputs": [],
   "source": [
    "etrade_secrets = user_cache.load().get_active_secrets()\n",
    "etrade_accounts = etrade.ETradeAccounts(\n",
    "    etrade_secrets.api_key.get_secret_value(),\n",
    "    etrade_secrets.api_secret.get_secret_value(),\n",
    "    etrade_secrets.oauth_token.get_secret_value(),\n",
    "    etrade_secrets.oauth_token_secret.get_secret_value()\n",
    ")\n",
    "accounts = etrade_accounts.list_accounts()[\"AccountListResponse\"][\"Accounts\"][\"Account\"]\n",
    "current_account = '6_Dpy0rmuQ9cu9IbTfvF2A'"
   ]
  },
  {
   "cell_type": "code",
   "execution_count": null,
   "id": "5fc2230b",
   "metadata": {},
   "outputs": [],
   "source": [
    "\n",
    "rprint(accounts)"
   ]
  },
  {
   "cell_type": "code",
   "execution_count": null,
   "id": "421a0eb7",
   "metadata": {},
   "outputs": [],
   "source": [
    "confirmation = orders.place_equity_order(\n",
    "    accountIdKey=current_account,\n",
    "    symbol=\"AAPL\",\n",
    "    orderAction='BUY',\n",
    "    clientOrderId='2',\n",
    "    priceType='MARKET',\n",
    "    quantity=1,\n",
    "    marketSession=\"REGULAR\",\n",
    "    orderTerm=\"GOOD_FOR_DAY\"\n",
    ")"
   ]
  },
  {
   "cell_type": "code",
   "execution_count": null,
   "id": "db731d04",
   "metadata": {},
   "outputs": [],
   "source": [
    "# Try specifying count and marketSession explicitly\n",
    "account_orders = orders.list_order_details(\n",
    "\taccount_id_key=current_account, order_id=529\n",
    ")"
   ]
  },
  {
   "cell_type": "code",
   "execution_count": null,
   "id": "4d28d320",
   "metadata": {},
   "outputs": [],
   "source": [
    "rprint(confirmation)"
   ]
  }
 ],
 "metadata": {
  "kernelspec": {
   "display_name": "ramblingrealms-trading-RC3nh33Z-py3.12",
   "language": "python",
   "name": "python3"
  },
  "language_info": {
   "codemirror_mode": {
    "name": "ipython",
    "version": 3
   },
   "file_extension": ".py",
   "mimetype": "text/x-python",
   "name": "python",
   "nbconvert_exporter": "python",
   "pygments_lexer": "ipython3",
   "version": "3.12.3"
  }
 },
 "nbformat": 4,
 "nbformat_minor": 5
}

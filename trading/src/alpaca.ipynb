{
 "cells": [
  {
   "cell_type": "code",
   "execution_count": null,
   "id": "6dede238",
   "metadata": {},
   "outputs": [],
   "source": [
    "from alpaca.data import CryptoHistoricalDataClient, StockHistoricalDataClient, OptionHistoricalDataClient\n",
    "\n",
    "# no keys required.\n",
    "crypto_client = CryptoHistoricalDataClient()\n",
    "\n",
    "# keys required\n",
    "stock_client = StockHistoricalDataClient(\"api-key\",  \"secret-key\")\n",
    "option_client = OptionHistoricalDataClient(\"api-key\",  \"secret-key\")\n"
   ]
  },
  {
   "cell_type": "code",
   "execution_count": null,
   "id": "5e7625fd",
   "metadata": {},
   "outputs": [],
   "source": []
  }
 ],
 "metadata": {
  "language_info": {
   "name": "python"
  }
 },
 "nbformat": 4,
 "nbformat_minor": 5
}
